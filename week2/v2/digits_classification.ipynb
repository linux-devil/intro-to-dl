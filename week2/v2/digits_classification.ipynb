{
 "cells": [
  {
   "cell_type": "markdown",
   "metadata": {
    "slideshow": {
     "slide_type": "slide"
    }
   },
   "source": [
    "# MNIST digits classification with TensorFlow"
   ]
  },
  {
   "cell_type": "markdown",
   "metadata": {},
   "source": [
    "<img src=\"images/mnist_sample.png\" style=\"width:30%\">"
   ]
  },
  {
   "cell_type": "code",
   "execution_count": 1,
   "metadata": {},
   "outputs": [
    {
     "name": "stdout",
     "output_type": "stream",
     "text": [
      "We're using TF 1.14.0\n"
     ]
    },
    {
     "name": "stderr",
     "output_type": "stream",
     "text": [
      "Using TensorFlow backend.\n"
     ]
    }
   ],
   "source": [
    "import numpy as np\n",
    "from sklearn.metrics import accuracy_score\n",
    "from matplotlib import pyplot as plt\n",
    "%matplotlib inline\n",
    "import tensorflow as tf\n",
    "print(\"We're using TF\", tf.__version__)\n",
    "\n",
    "import sys\n",
    "sys.path.append(\"../..\")\n",
    "import grading\n",
    "\n",
    "import matplotlib_utils\n",
    "from importlib import reload\n",
    "reload(matplotlib_utils)\n",
    "\n",
    "import grading_utils\n",
    "reload(grading_utils)\n",
    "\n",
    "import keras_utils\n",
    "from keras_utils import reset_tf_session"
   ]
  },
  {
   "cell_type": "markdown",
   "metadata": {},
   "source": [
    "# Fill in your Coursera token and email\n",
    "To successfully submit your answers to our grader, please fill in your Coursera submission token and email"
   ]
  },
  {
   "cell_type": "code",
   "execution_count": 2,
   "metadata": {},
   "outputs": [],
   "source": [
    "grader = grading.Grader(assignment_key=\"XtD7ho3TEeiHQBLWejjYAA\", \n",
    "                        all_parts=[\"9XaAS\", \"vmogZ\", \"RMv95\", \"i8bgs\", \"rE763\"])"
   ]
  },
  {
   "cell_type": "code",
   "execution_count": 12,
   "metadata": {},
   "outputs": [],
   "source": [
    "# token expires every 30 min\n",
    "COURSERA_TOKEN = \"ptOJluIggkTzQrk9\"\n",
    "COURSERA_EMAIL = \"hrsht.sarma@gmail.com\""
   ]
  },
  {
   "cell_type": "markdown",
   "metadata": {},
   "source": [
    "# Look at the data\n",
    "\n",
    "In this task we have 50000 28x28 images of digits from 0 to 9.\n",
    "We will train a classifier on this data."
   ]
  },
  {
   "cell_type": "code",
   "execution_count": 4,
   "metadata": {},
   "outputs": [],
   "source": [
    "import preprocessed_mnist\n",
    "X_train, y_train, X_val, y_val, X_test, y_test = preprocessed_mnist.load_dataset()"
   ]
  },
  {
   "cell_type": "code",
   "execution_count": 5,
   "metadata": {},
   "outputs": [
    {
     "name": "stdout",
     "output_type": "stream",
     "text": [
      "X_train [shape (50000, 28, 28)] sample patch:\n",
      " [[0.         0.29803922 0.96470588 0.98823529 0.43921569]\n",
      " [0.         0.33333333 0.98823529 0.90196078 0.09803922]\n",
      " [0.         0.33333333 0.98823529 0.8745098  0.        ]\n",
      " [0.         0.33333333 0.98823529 0.56862745 0.        ]\n",
      " [0.         0.3372549  0.99215686 0.88235294 0.        ]]\n",
      "A closeup of a sample patch:\n"
     ]
    },
    {
     "data": {
      "image/png": "[encoded data removed]",
      "text/plain": [
       "<Figure size 432x288 with 1 Axes>"
      ]
     },
     "metadata": {
      "needs_background": "light"
     },
     "output_type": "display_data"
    },
    {
     "name": "stdout",
     "output_type": "stream",
     "text": [
      "And the whole sample:\n"
     ]
    },
    {
     "data": {
      "image/png": "[encoded data removed]",
      "text/plain": [
       "<Figure size 432x288 with 1 Axes>"
      ]
     },
     "metadata": {
      "needs_background": "light"
     },
     "output_type": "display_data"
    },
    {
     "name": "stdout",
     "output_type": "stream",
     "text": [
      "y_train [shape (50000,)] 10 samples:\n",
      " [5 0 4 1 9 2 1 3 1 4]\n"
     ]
    }
   ],
   "source": [
    "# X contains rgb values divided by 255\n",
    "print(\"X_train [shape %s] sample patch:\\n\" % (str(X_train.shape)), X_train[1, 15:20, 5:10])\n",
    "print(\"A closeup of a sample patch:\")\n",
    "plt.imshow(X_train[1, 15:20, 5:10], cmap=\"Greys\")\n",
    "plt.show()\n",
    "print(\"And the whole sample:\")\n",
    "plt.imshow(X_train[1], cmap=\"Greys\")\n",
    "plt.show()\n",
    "print(\"y_train [shape %s] 10 samples:\\n\" % (str(y_train.shape)), y_train[:10])"
   ]
  },
  {
   "cell_type": "markdown",
   "metadata": {},
   "source": [
    "# Linear model\n",
    "\n",
    "Your task is to train a linear classifier $\\vec{x} \\rightarrow y$ with SGD using TensorFlow.\n",
    "\n",
    "You will need to calculate a logit (a linear transformation) $z_k$ for each class: \n",
    "$$z_k = \\vec{x} \\cdot \\vec{w_k} + b_k \\quad k = 0..9$$\n",
    "\n",
    "And transform logits $z_k$ to valid probabilities $p_k$ with softmax: \n",
    "$$p_k = \\frac{e^{z_k}}{\\sum_{i=0}^{9}{e^{z_i}}} \\quad k = 0..9$$\n",
    "\n",
    "We will use a cross-entropy loss to train our multi-class classifier:\n",
    "$$\\text{cross-entropy}(y, p) = -\\sum_{k=0}^{9}{\\log(p_k)[y = k]}$$ \n",
    "\n",
    "where \n",
    "$$\n",
    "[x]=\\begin{cases}\n",
    "       1, \\quad \\text{if $x$ is true} \\\\\n",
    "       0, \\quad \\text{otherwise}\n",
    "    \\end{cases}\n",
    "$$\n",
    "\n",
    "Cross-entropy minimization pushes $p_k$ close to 1 when $y = k$, which is what we want.\n",
    "\n",
    "Here's the plan:\n",
    "* Flatten the images (28x28 -> 784) with `X_train.reshape((X_train.shape[0], -1))` to simplify our linear model implementation\n",
    "* Use a matrix placeholder for flattened `X_train`\n",
    "* Convert `y_train` to one-hot encoded vectors that are needed for cross-entropy\n",
    "* Use a shared variable `W` for all weights (a column $\\vec{w_k}$ per class) and `b` for all biases.\n",
    "* Aim for ~0.93 validation accuracy"
   ]
  },
  {
   "cell_type": "code",
   "execution_count": 6,
   "metadata": {},
   "outputs": [
    {
     "name": "stdout",
     "output_type": "stream",
     "text": [
      "(50000, 784)\n",
      "(10000, 784)\n"
     ]
    }
   ],
   "source": [
    "X_train_flat = X_train.reshape((X_train.shape[0], -1))\n",
    "print(X_train_flat.shape)\n",
    "\n",
    "X_val_flat = X_val.reshape((X_val.shape[0], -1))\n",
    "print(X_val_flat.shape)"
   ]
  },
  {
   "cell_type": "code",
   "execution_count": 7,
   "metadata": {},
   "outputs": [
    {
     "name": "stdout",
     "output_type": "stream",
     "text": [
      "(50000, 10)\n",
      "[[0. 0. 0. 0. 0. 1. 0. 0. 0. 0.]\n",
      " [1. 0. 0. 0. 0. 0. 0. 0. 0. 0.]\n",
      " [0. 0. 0. 0. 1. 0. 0. 0. 0. 0.]] [5 0 4]\n"
     ]
    }
   ],
   "source": [
    "import keras\n",
    "\n",
    "y_train_oh = keras.utils.to_categorical(y_train, 10)\n",
    "y_val_oh = keras.utils.to_categorical(y_val, 10)\n",
    "\n",
    "print(y_train_oh.shape)\n",
    "print(y_train_oh[:3], y_train[:3])"
   ]
  },
  {
   "cell_type": "code",
   "execution_count": 8,
   "metadata": {},
   "outputs": [
    {
     "name": "stderr",
     "output_type": "stream",
     "text": [
      "WARNING: Logging before flag parsing goes to stderr.\n",
      "W0826 00:51:59.944886 140278096107328 deprecation_wrapper.py:119] From ../../keras_utils.py:68: The name tf.get_default_session is deprecated. Please use tf.compat.v1.get_default_session instead.\n",
      "\n",
      "W0826 00:51:59.945895 140278096107328 deprecation_wrapper.py:119] From /home/harshit/miniconda3/envs/gpu-tf/lib/python3.7/site-packages/keras/backend/tensorflow_backend.py:95: The name tf.reset_default_graph is deprecated. Please use tf.compat.v1.reset_default_graph instead.\n",
      "\n",
      "W0826 00:51:59.946706 140278096107328 deprecation_wrapper.py:119] From /home/harshit/miniconda3/envs/gpu-tf/lib/python3.7/site-packages/keras/backend/tensorflow_backend.py:98: The name tf.placeholder_with_default is deprecated. Please use tf.compat.v1.placeholder_with_default instead.\n",
      "\n",
      "W0826 00:51:59.959754 140278096107328 deprecation_wrapper.py:119] From /home/harshit/miniconda3/envs/gpu-tf/lib/python3.7/site-packages/keras/backend/tensorflow_backend.py:102: The name tf.get_default_graph is deprecated. Please use tf.compat.v1.get_default_graph instead.\n",
      "\n",
      "W0826 00:51:59.960250 140278096107328 deprecation_wrapper.py:119] From ../../keras_utils.py:75: The name tf.ConfigProto is deprecated. Please use tf.compat.v1.ConfigProto instead.\n",
      "\n"
     ]
    }
   ],
   "source": [
    "# run this again if you remake your graph\n",
    "s = reset_tf_session()"
   ]
  },
  {
   "cell_type": "code",
   "execution_count": 9,
   "metadata": {},
   "outputs": [
    {
     "name": "stderr",
     "output_type": "stream",
     "text": [
      "W0826 00:52:47.996603 140278096107328 lazy_loader.py:50] \n",
      "The TensorFlow contrib module will not be included in TensorFlow 2.0.\n",
      "For more information, please see:\n",
      "  * https://github.com/tensorflow/community/blob/master/rfcs/20180907-contrib-sunset.md\n",
      "  * https://github.com/tensorflow/addons\n",
      "  * https://github.com/tensorflow/io (for I/O related ops)\n",
      "If you depend on functionality not listed there, please file an issue.\n",
      "\n"
     ]
    }
   ],
   "source": [
    "W = tf.get_variable(\"W\", shape=(784,10), dtype = tf.float32, initializer = tf.contrib.layers.xavier_initializer())\n",
    "b = tf.get_variable(\"b\", shape=(10,), dtype = tf.float32, initializer = tf.contrib.layers.xavier_initializer())\n",
    "# Placeholders for the input data\n",
    "input_X = tf.placeholder(tf.float32, shape=[None, 784]) \n",
    "input_y = tf.placeholder(tf.float32, shape=[None, 10])"
   ]
  },
  {
   "cell_type": "code",
   "execution_count": 10,
   "metadata": {},
   "outputs": [
    {
     "name": "stderr",
     "output_type": "stream",
     "text": [
      "W0826 00:53:15.620362 140278096107328 deprecation.py:323] From <ipython-input-10-329970ca2c9f>:11: softmax_cross_entropy_with_logits (from tensorflow.python.ops.nn_ops) is deprecated and will be removed in a future version.\n",
      "Instructions for updating:\n",
      "\n",
      "Future major versions of TensorFlow will allow gradients to flow\n",
      "into the labels input on backprop by default.\n",
      "\n",
      "See `tf.nn.softmax_cross_entropy_with_logits_v2`.\n",
      "\n"
     ]
    }
   ],
   "source": [
    "# Compute predictions\n",
    "logits = tf.matmul(input_X, W)+b ### shape should be [input_X.shape[0], 10]\n",
    "probas = tf.nn.softmax(logits) ### apply tf.nn.softmax to logits\n",
    "classes = tf.argmax(probas, 1) ### apply tf.argmax to find a class index with highest probability\n",
    "\n",
    "# Loss should be a scalar number: average loss over all the objects with tf.reduce_mean().\n",
    "# Use tf.nn.softmax_cross_entropy_with_logits on top of one-hot encoded input_y and logits.\n",
    "# It is identical to calculating cross-entropy on top of probas, but is more numerically friendly (read the docs).\n",
    "# logits_h = keras.utils.to_categorical(logits, 10)\n",
    "# input_yh = keras.utils.to_categorical(input_y)\n",
    "loss = tf.reduce_mean(tf.nn.softmax_cross_entropy_with_logits(logits=logits, labels=input_y)) ### cross-entropy loss\n",
    "\n",
    "# Use a default tf.train.AdamOptimizer to get an SGD step\n",
    "step = tf.train.AdamOptimizer().minimize(loss) ### optimizer step that minimizes the loss"
   ]
  },
  {
   "cell_type": "code",
   "execution_count": 11,
   "metadata": {
    "scrolled": false
   },
   "outputs": [
    {
     "data": {
      "text/html": [
       "<img src=\"data:image/jpeg;base64,/9j/4AAQSkZJRgABAQEASABIAAD/2wBDAAIBAQEBAQIBAQECAgICAgQDAgICAgUEBAMEBgUGBgYFBgYGBwkIBgcJBwYGCAsICQoKCgoKBggLDAsKDAkKCgr/2wBDAQICAgICAgUDAwUKBwYHCgoKCgoKCgoKCgoKCgoKCgoKCgoKCgoKCgoKCgoKCgoKCgoKCgoKCgoKCgoKCgoKCgr/wAARCAEgA2ADASIAAhEBAxEB/8QAHwAAAQUBAQEBAQEAAAAAAAAAAAECAwQFBgcICQoL/8QAtRAAAgEDAwIEAwUFBAQAAAF9AQIDAAQRBRIhMUEGE1FhByJxFDKBkaEII0KxwRVS0fAkM2JyggkKFhcYGRolJicoKSo0NTY3ODk6Q0RFRkdISUpTVFVWV1hZWmNkZWZnaGlqc3R1dnd4eXqDhIWGh4iJipKTlJWWl5iZmqKjpKWmp6ipqrKztLW2t7i5usLDxMXGx8jJytLT1NXW19jZ2uHi4%2BTl5ufo6erx8vP09fb3%2BPn6/8QAHwEAAwEBAQEBAQEBAQAAAAAAAAECAwQFBgcICQoL/8QAtREAAgECBAQDBAcFBAQAAQJ3AAECAxEEBSExBhJBUQdhcRMiMoEIFEKRobHBCSMzUvAVYnLRChYkNOEl8RcYGRomJygpKjU2Nzg5OkNERUZHSElKU1RVVldYWVpjZGVmZ2hpanN0dXZ3eHl6goOEhYaHiImKkpOUlZaXmJmaoqOkpaanqKmqsrO0tba3uLm6wsPExcbHyMnK0tPU1dbX2Nna4uPk5ebn6Onq8vP09fb3%2BPn6/9oADAMBAAIRAxEAPwD9/KKKKACiiigAooooAKKKKACiiigAooooAKKKKACiiigAooooAKKKKACiiigAooooAKKKKACiiigAooooAKKKKACiiigAooooAKKKKACiiigAooooAKKKKACiiigAooooAKKKKACiiigAooooAKKKKACiiigAooooAKKKKACiiigAooooAKKKKACiiigAooooAKKKKACiiigAooooAKKKKACiiigAooooAKKKKACiiigAooooAKKKKACiiigAooooAKKKKACiiigAooooAKKKKACiiigAooooAKKKKACiiigAooooAKKKKACiiigAooooAKKKKACiiigAooooAKKKKACiiigAooooAKKKKACvPfjt%2B1J8FP2b5NGsfil4g1Maj4ilnTQNB8OeF9R1zVNR8lVed4bHTbee5kjiVkMkixlI96biu5c%2BhV4N%2B0P8D/j5/wANJ%2BDv2tv2bLLwfrWueH/B2seFNX8KeOdcutLtLywv7mwuxcQXtraXj288U2noCpt3WVJSCUKK1ABpf/BTL9izWLvxNb2nxXv0h8FWsk/jLUrvwXrEFjoIS0iu9l5dy2iwWsrQzRskMjrJIWKorMrKL2n/APBQ/wDZK1HwBrXxFTx/q9vB4f1ay0vVdE1DwNrNrrkV5ebfscC6PNaLqEr3AYGER27eaAxTcFYjy2b9gH4y%2BMf2a/jn8NfGHinwppHin4o/FS38daHc6U1xeWFpeW0OiywQ3IkihkkiN3pRRwoyYHGDuJVaPi79i/8AaV%2BLmr/Ef45fG34S/CjWvFnjWx8KaPp/gKy%2BI2s2Wm6fY6Hcaldw3qa7b6al5DqDXOqTOksVoPJSKNFZiWcgHsviH9vv9mzwv4a8OeI9XvvG3meK0v5NE8P2vwm8SXGuSRWUscV3NJpMWntf28MLzQq8s0CIpmiy37xM%2Bmaz8RPBHhv4e3XxX8T%2BJbbSvDljo76rf6vqrfZYbSySIzPPMZdvlKsYLNvxtAOcYNfGHin9hH9s/WPgV4X8Nay3hfxV470a58RHRfGd/wDHbxNpGr%2BCLW%2BuUktLO11q1sJLzXIYkjhWZb1YftJtovMBCjHqPxo/4J0Wvx6/Zu8T/Dj4hfHPxrd%2BO/GHwvj8M694pbxtrQ0ea%2BW0hibUE0Jb5bC3Z5oFlbyIopCHkAkVpGcgHRwf8FKP2Mv%2BFc%2BK/itrHxWvdE0bwRZWV94ofxP4O1fSbmysryYw2t79lvLWK4ktJZFZUuY42hby3IfCMRyHxu/4Kyfs7/DP4Iap8Y/Aei%2BKvFU2g/EHwv4X13wx/wAILrtjqdgdZ1K1tY7p7OTTmuvK8i4eeBvJ8u8eNLeGQyTxg%2BV6p/wTE%2BMnjv4VePtI8ReBvDejeMfEeh6Po9h4h1X9ovxn43W7tLXWLfUJo5P7dgP2CM%2BSxSKJZjvfDSYyT3/7UP7Bnxp%2BMHxB%2BL/xB8C%2BIfC8cni%2BD4W3nhKz1a%2BuYle/8J%2BI7nWpYbxo7eTyIbgNbwrLGJnXLsY/kVXAPULD/goJ%2By3qPxNsvgzD4n8TR%2BK7zRdP1iXQLv4b69Bc6dp9606QXd%2Bklkp06Hdbyq8l15SxEKJChdN1Hw1/wUw/Yp8W%2BDPFnxC0j4wXCaP4L8EXXjLWL3UPCWq2guPD1ujPNq1is9qjapZqqHE9mJ42LIFYl0DYOh/sh/FD4h/Ez43fEH44L4e0GL40fB3w74QurHwnrtxqMul3Fomupdss89na%2BZGBqsRifYrMUk3Rx4G75u/bG/ZU/ah0f9hj4pfE39pi78AWkPwh/Yp%2BIPgjwvH4C1C8uG15r3SLYz6jdLc20AsVCaRbhLONrgK00hM7bUFAH1n4e/4KS/sZeJtD1jxHp/xauoLPQ00qa%2Bk1TwlqtkzWmpXa2djqEK3FqjXNhLOwUX0Ie1UBnaVUVmHp%2BifF34eeI/ilr/wX0PxD9p8SeFtL0/UNfsI7SbbZwXzXAtd0xTyi7/ZZj5SuZFUIzKqyRlvknUP2Z/EHivQPFPxt/wCCkXi/4Z%2BE/Alv%2Bz3c/DqS48P%2BIJltZtNvZIZLzVbya9gt0sHJgthDbIZxATJ/pEhZcdh/wR88B/F2y/ZHtfj/APtIagb74k/F68j8T%2BK9Qeze3aSEWkFlpq%2BVJ88P/EutLSRomwUlmmyAxbIB9VUUUUAFFFFABRRRQAUUUUAFFFFABRRRQAUUUUAFFFFABRRRQAUUUUAFFFFABRRRQAUUUUAFFFFABRRRQAUUUUAFFFFABRRRQAV4jpH/AAUY/Y91K716z1P4pXnh5vDnhy58QahJ418I6roMc2k27pHPf2smpWsC31ujyRK0tsZUBljGcuufab2K5ms5YbO6EEzxMsUxj3%2BWxHDbT1wecd6/MTV/%2BCOX7cvxf1bwvrnxu%2BOOhvrfhrwfqFnqHijUPit4m8TjxDrf2zSr611E6XfRQ2Wk20lzpi%2BfYWQCiOTassgVAoB9sv8At/8A7MNr8NG%2BLGseIPFWlaW2uQaNY2eufDLX7DVNTv5kMkMFlptxYpe37SIGdfs8MgZUdgSEYjovAf7VnwP%2BI%2Bv2XhPw54h1SHV7/wAKT%2BJIdI1rwrqWmXaabDd/ZJZZYby3ikgdZ/kMMirL32bea8m%2BJ3wc/bd%2BMTfD342654N%2BFWh/EP4UeOptY8P%2BGbXxxqV/ouuWdxpN3plzHcXz6VDNYzFL2SSN0tbgRmIKfMEjYq/En4Dftwa/8ZfDv7TXgfRvhXaeLL74Yar4L8Y6FqXivUpLDSFuL%2BG6tb%2ByuE04SagYhG6yW8sVoJS4xLFjkA7jSf8Ago3%2ByB4j17wL4W8K/EbVdZ1P4k%2BDdK8W%2BDdO0TwPrN7PeaHqL7LXUZEgtGa1t92PMknEa24ZTN5QYE7Hw1/bc/Zu%2BK/xGufhP4Z8X6tZ6/b6Xc6nDZeJ/BmraIt/Y28iRz3dlLqNrBHfwRvLEHltmkRfMQkgMpPlH7Cn7CXxY/Zh1/4caz488QeGrs%2BDv2UvCPwxv30i5nlZtW0t5muZovMgj3Wrb02MxV22/NGmBXjXw0/4JV/tjeJ/ij4X8TftTfGGz1SLT/AHivwv408TQfF/xJrV54il1exS2/tO10y%2Bhj0/QjlSxtLRSi5UCZxGq0AfUvhP/gov%2ByP410WPxVoPjvXP7DuNV0vT9P8AEt78P9btdK1GXUr2OyspLS%2Bns0tryCW5mijFxBI8IMqFnCsCfS/C3xd%2BHnjX4geKfhd4X8Q/a9c8FyWcfie0S0mC2Ml1B9ogjMrII3doSshRGZkWSMsFEibvmHxx4E%2BIvhX/AIJ7eNPgR/wUM8T/AAq8EeAtB%2BGkWgW3xM8O%2BLbsM06RpbWupPaXVnAmmzLMLeSGCO4umM5REcnaG7X/AIJX/D74seG/2RNK%2BKv7RVglv8TvixfS%2BOviJClu0X2e/v1jMNpsb5k%2By2MdlZ7TkgWuDQB9G0UUUAFFFFABRRRQAUUUUAFFFFABRRRQAUUUUAFFFFABRRRQAUUUUAFFFFABRRRQAUUUUAFFFFABRRRQAUUUUAFFFFABRRRQAUUUUAFeL/Hrx/8AtF/8NF%2BBfgR8BfGfgrw%2Bmv8AgrxLr2r6n4v8F3etEnTrvQ7eGGGO31Kx8sN/akrMzM%2BfLQALyT7RXhXxF1pLL/gpV8IdFkUYvfgn8Q2Rs87o9W8GnH5Mx/Ck2luXCEqjtHs392rL/wDwg/8AwUL/AOjoPgz/AOGH1b/5qKP%2BEH/4KF/9HQfBn/ww%2Brf/ADUV7NRTIPGf%2BEH/AOChf/R0HwZ/8MPq3/zUUf8ACD/8FC/%2BjoPgz/4YfVv/AJqK9mooA8Z/4Qf/AIKF/wDR0HwZ/wDDD6t/81FH/CD/APBQv/o6D4M/%2BGH1b/5qK9mooA8Z/wCEH/4KF/8AR0HwZ/8ADD6t/wDNRR/wg/8AwUL/AOjoPgz/AOGH1b/5qK9mooA8Z/4Qf/goX/0dB8Gf/DD6t/8ANRR/wg//AAUL/wCjoPgz/wCGH1b/AOaivZqKAPGf%2BEH/AOChf/R0HwZ/8MPq3/zUUf8ACD/8FC/%2BjoPgz/4YfVv/AJqK9mooA8Z/4Qf/AIKF/wDR0HwZ/wDDD6t/81FH/CD/APBQv/o6D4M/%2BGH1b/5qK9mooA8Z/wCEH/4KF/8AR0HwZ/8ADD6t/wDNRR/wg/8AwUL/AOjoPgz/AOGH1b/5qKta/wDG/wDZE%2BFNppGk/HT4w/Dnw5rmoaLBqBtvF3iGwtLu4jkyPP23Dq7IzpIA3TKMM8EDN/4a/wD%2BCcH/AEdF8Ef/AAttH/8Ajtc08Zg6cnGdWKa6OUU/uckz2sPw3xJi6Ea1DA15wkrqUaNaUWu6lGjKLWj1Ta03LH/CD/8ABQv/AKOg%2BDP/AIYfVv8A5qKP%2BEH/AOChf/R0HwZ/8MPq3/zUVX/4a/8A%2BCcH/R0XwR/8LbR//jtenaBovws8V6FZeKfC2k%2BH9S0zUrSO607UdPggmguoJFDxyxyICroykMrKSCCCDg1dLE4eu2qc4yt2kn%2BTZz47Js5yuEZ43C1aSk7J1KdSmm97JzpwTdtbJt21tbU85/4Qf/goX/0dB8Gf/DD6t/8ANRR/wg//AAUL/wCjoPgz/wCGH1b/AOaivPvh3/wUX/Yw8Z%2BCLPxf4g%2BH3ibQZ9U8ca14W0TRrr4Qa3Nd6te6dcX8ci2kUWnl7omHTp52WJXMODHJtkVlHYfEL9qj9lrwLZePbS80SLT9Y8BeENa8Q3lt4s8CatpNnd2emL/pc9vdSac4vbeJmiEktkl0VE0bBH3or7Hmmj/wg/8AwUL/AOjoPgz/AOGH1b/5qKP%2BEH/4KF/9HQfBn/ww%2Brf/ADUVVsP2rP2MNQ%2BM8n7P0N5b/wDCUW/iCPQbqP8A4Qa/FhDqr6dHqUdi2oNaC0Wd7SVJkjMoZwcKCwKjZ%2BNfxV%2BCvwk/Z5139ofR/COjeKNO0uwaTTbfQ1tpBqt00oggtYpgCgaS4ZIdxO1WYluhoAof8IP/AMFC/wDo6D4M/wDhh9W/%2Baij/hB/%2BChf/R0HwZ/8MPq3/wA1FP8A2cPiBbfFy88ZeB/ij8CvDfhXxh4D8QQ6Zr%2BlaPqK6rYyLPY217b3NtdSWls8sbxXKqd8EbLLFKuGUK7%2BSfEz9tHxD8BvDPxPl%2BOX7IfgjTvEHgD4WDx3ZaboXjoX1ndWRnngEF5dSaXA1hNvgblYbiNlWQo7%2BUwoA9Y/4Qf/AIKF/wDR0HwZ/wDDD6t/81FH/CD/APBQv/o6D4M/%2BGH1b/5qK5G9/aj8HaF%2ByfJ%2B0TefDX4ZeJ9W1C8ksPBuhfC7xvHr2n%2BIL47hDBFqLWFvt5SV53EDrbwwTStuWNgOE8Tf8FFfBvh/whpfxKf9mnwxD4dsPhB4V%2BIvxGvdV8TxWs%2BjaZrk1xDFHYRfYmGpywtaXBcO9qp/cqhZ5NigHtP/AAg//BQv/o6D4M/%2BGH1b/wCaij/hB/8AgoX/ANHQfBn/AMMPq3/zUV5fof7c3g3xF%2B2rcfse6X8BPBjXsfiK/wBGW2bxTGPEFr9m0ptQGrXmkCxJttHmZUto74Tybpbi3HlfvcLsfDz42fH7xx8RfiZ8H3/Yu%2BFg8Q/D7TtCkgl0z4nXFxpt5e6i8rvZTXEugwyWz29okV05WGfcl3AqqSx2gHcf8IP/AMFC/wDo6D4M/wDhh9W/%2Baij/hB/%2BChf/R0HwZ/8MPq3/wA1FeZ61%2B2Lb6N%2BzjrHx01f4MfBzw3L4Q8Z6r4b8aHx58Ul0nRILmxmeFjZan/ZMv2zfIoRVkgt2Dh0YB0KnN1j/goJ4N0yex8TXP7Lel6R4UstC8Faj47ufFurRabrOhnxNOILSGLTvskgumgdgJ988BBWRIhNJGUoA9e/4Qf/AIKF/wDR0HwZ/wDDD6t/81FH/CD/APBQv/o6D4M/%2BGH1b/5qK8s%2BGn7dPhT4o/tZaz%2Byx4f/AGfvBbajp2oeIbFLFPFsb67YPpbBEvNW0sWOdN0%2B8Yoba6E05lS5tmEf70hNX4F/tMeJ/wBoi18e%2BHPhb%2Bz78Htb8T%2BBNWsbO5uNC%2BJ8l94ZunnSRpbYatFopkS9t/L/AH1qbQ7BNAS48zCgHff8IP8A8FC/%2BjoPgz/4YfVv/moo/wCEH/4KF/8AR0HwZ/8ADD6t/wDNRXhdj/wUe8MS/Bf4a%2BNvEPwM%2BE3hjxJ8T113UNCtvGXxRj0zw8NE06%2BitU1H%2B1pdL8xzdi6sJbeBbTe63mTtETsPTviv%2B1B4I%2BGv7RPws/Zy0/4C6TrWo%2BOdSjtvFepWl3Ett4WWewv7m0JPkE3b3D6ddKiDy/kgkkZl/dpIAdN/wg//AAUL/wCjoPgz/wCGH1b/AOaij/hB/wDgoX/0dB8Gf/DD6t/81FeS6F%2B358O/F/hb4ufEvwX8KPhhqnh74YeE/EOsW%2BmW3xDgfxLfnS2lRWutKSxYada3JglaK4aeR/LMLNCDIVT1r9kT4k%2BG/wBpn4TL8Ub3wp8JpIp7wxWsnw08bp4nsdojjYrJdGwtBHOrMytCEbaAp3kttUAP%2BEH/AOChf/R0HwZ/8MPq3/zUVQ8D%2BOP2rPB37Vnhz4I/G74j/D3xNo3ib4e%2BIdchm8K/Dy%2B0W6tLrTb7RLdFZ7jV75JY3TVJSVCIwaJCGxkH1DxZ4T8Lab4W1LUtN8OWNtc21jLLb3FvaIjxuqFlZWUAgggV5944/wCUhfwv/wCyM%2BPP/Tt4QoA9mooooAKKKKACiiigAr5x%2BE3ir9u/466Pr3jvwv8AG/4SaBpdv8QvFWh6XpV/8H9Uv7iK10vXr/TIWluE8RQLLI8dmrsyxRrucgKABX0dXjP7B/8AyRDXP%2ByzfEf/ANTXW6AD/hB/%2BChf/R0HwZ/8MPq3/wA1FH/CD/8ABQv/AKOg%2BDP/AIYfVv8A5qK9mooA8Z/4Qf8A4KF/9HQfBn/ww%2Brf/NRR/wAIP/wUL/6Og%2BDP/hh9W/8Amor2aigDxn/hB/8AgoX/ANHQfBn/AMMPq3/zUUf8IP8A8FC/%2BjoPgz/4YfVv/mor2aigDxn/AIQf/goX/wBHQfBn/wAMPq3/AM1FH/CD/wDBQv8A6Og%2BDP8A4YfVv/mor2aigDxn/hB/%2BChf/R0HwZ/8MPq3/wA1FH/CD/8ABQv/AKOg%2BDP/AIYfVv8A5qK9mooA8Z/4Qf8A4KF/9HQfBn/ww%2Brf/NRR/wAIP/wUL/6Og%2BDP/hh9W/8Amor2aigDxn/hB/8AgoX/ANHQfBn/AMMPq3/zUUf8IP8A8FC/%2BjoPgz/4YfVv/mor2aigDxn/AIQf/goX/wBHQfBn/wAMPq3/AM1FH/CD/wDBQv8A6Og%2BDP8A4YfVv/mor2aigDxn/hB/%2BChf/R0HwZ/8MPq3/wA1FH/CD/8ABQv/AKOg%2BDP/AIYfVv8A5qK9mooA8Z/4Qf8A4KF/9HQfBn/ww%2Brf/NRR/wAIP/wUL/6Og%2BDP/hh9W/8Amor2aigDxn/hB/8AgoX/ANHQfBn/AMMPq3/zUUf8IP8A8FC/%2BjoPgz/4YfVv/mor2aub8Q/GP4ReErg2nir4qeG9MlHWPUNct4WH4O4NTKcIK8ml6u352InUp01ebSXm0vzaPPf%2BEH/4KF/9HQfBn/ww%2Brf/ADUUf8IP/wAFC/8Ao6D4M/8Ahh9W/wDmorodU/a//ZL0OJrjWv2ovh1Zxr957rxtYRgfUtKK4/WP%2BCnX/BPbQ5jBe/ti%2BAHYdTZ%2BIYrgfnEWFc08fgKfx1oL1lH/AOSOSpmeWUfjrwXrOC/9uL//AAg//BQv/o6D4M/%2BGH1b/wCaij/hB/8AgoX/ANHQfBn/AMMPq3/zUVzM3/BXD/gm7A%2Bx/wBrjwuT/sGdh%2BYjNEP/AAVw/wCCbs77E/a48Lg/7ZnUfmYxWX9r5T/0EQ/8Dj/8kYf27kf/AEFU/wDwZD/5I6b/AIQf/goX/wBHQfBn/wAMPq3/AM1FH/CD/wDBQv8A6Og%2BDP8A4YfVv/morn77/grF/wAE5NPtPts/7XfhFk/uwXMkr/8AfCIW/SuVv/8Agtj/AME8HuDpvgn4q614tvh/zD/C/gnVLiU%2BmC1uqnP%2B9UzznKIfFiIf%2BBR/Rtkz4gyKn8WKp/8AgcX%2BCbf4HpX/AAg//BQv/o6D4M/%2BGH1b/wCaij/hB/8AgoX/ANHQfBn/AMMPq3/zUV5gv/BWS21D/SfDH/BO79qDVbM/6q/tfhQRFL7ruuASPwFVb/8A4K6R6Ucap/wTl/adtuM/6R8M40/ndVm88ypK/tf/ACWf/wArJjxBk83aNRv0hVf5Umes/wDCD/8ABQv/AKOg%2BDP/AIYfVv8A5qKP%2BEH/AOChf/R0HwZ/8MPq3/zUV4Tq3/BafTFBh0H9hb4xRzjqPFVjYaPED/10muWFc3ff8Fr/AIm6cxmvf2OPClvb/wABu/2lfDEU2P8AaiZ8qfYmsZ8SZND/AJe39Iy/%2BRR6VCriMWr4bC4iqv7mFxU1/wCS4Zn01/wg/wDwUL/6Og%2BDP/hh9W/%2Baij/AIQf/goX/wBHQfBn/wAMPq3/AM1FfJ99/wAF5/ECKU0z9lbwdLKv3luP2lfDMS5/3g7Z/Kuf1b/g4K%2BIWgAz6h%2ByX4CnXr5Nh%2B0VpEzr7ExwMCfpWEuLMhhvV/8AJZf5HqUcn4nxLtRynHS9MDjX/wC6yPtD/hB/%2BChf/R0HwZ/8MPq3/wA1FH/CD/8ABQv/AKOg%2BDP/AIYfVv8A5qK%2BCdS/4OV/EVzcjTNJ/ZG0WwnbhZbv4jPfoT7C0sCT%2BdWtM/4Luftja4%2B/wr%2Bx5o2vq5ykWi2WvO2PTJs8E1iuMuH5O0Kjl6Qk/wBL/gelLg7j2MOd5Fj1HvLB14L76ipn3Z/wg/8AwUL/AOjoPgz/AOGH1b/5qKt/srfEb40%2BMNY%2BKHgT46a/4X1bVPAPxCi0Oz1Xwn4audJt7q1l0HR9TVnt7i9vGWRZNRlQsJdpWNDtU5z8Twf8Ff8A/gqJrIH/AAj/APwSU8VSKw4mOg6y0Z98m1UfrX0F/wAEn/il8YPjVofxs%2BJvx7%2BE8vgbxZqfxmT%2B1fC08Msb2Xl%2BFfDsUWVlw43xJHJz/wA9OOMV6WAzvA5lWdOhzXSvrCcV98opddjy8RlucYKPNi8JVox2vUioq/b%2BLN33%2Bytt%2B/1jRRRXrnIFFFFABRRRQAUUUUAFFFFABRRRQAUUUUAFFFFABRRRQAUUUUAct8bfBFj8RvhRrvg3Utf17S4LuxJe%2B8M6/daXfR7CJB5V1aSRzQklApaN1YqWGRmvIf2bfEejeMv%2BCWHwz8c/tA/FrWNOsrz4H%2BH9V8ZeNJfFlxYXqp/ZVtPdXcuopIs8Tth2ecSLJ8zHcCc17d8Qfh18Pvi14Ovvh38VPAmjeJvD%2BqRrHqWheINLivbO7QMHCywzKySAMqsAwPKg9RXHaT%2Bxl%2Bx9oHw%2BufhJoX7KPw1svCl5ZNZ3nhm08C6fHp89s0wmaF7ZYRG0ZlVZChXBdQ2MjNAHK/8ABP6w%2BIUfwk1vxH4puPFieG9e8X3Oo/DTSvHurXd9reneHXgt0gS8mvXe5Lyzx3V2kdw7TQxXkUMm1oii%2BY/Fv4meIr3/AILIfAPwlq/wp8QaDaRfDj4kWen63qtzpz2uuKX8NzM9qttdyzoqeQNwuYoGO9dobDbfpv4UfBP4NfAfw7N4P%2BB3wk8MeDNJuL1ry40vwpoNvp1tLcMiI0zR26IrSFI41LkZIRRnAFfLH7Z2rnSP%2BCxn7F25sR3fh/4n20h/3rDRyo/76Va5cZP2dDm84/jKK/U93hzDfW809l3p1n/4DQrS/wDbT7OooorqPCCiiigAooooAKKKKACiiigAooooAKKKKAPM9S/Zk/Zt%2BNGj6D4p%2BMX7PfgfxZqdv4ftbWDUfEvhOzv544FUusSyTxswQM7sFBwC7HGSapf8MD/sK/8ARlnwl/8ADc6Z/wDGK5P4vf8ABSD9i/8AY%2Bl8OfDT9ov4y/8ACO63feFLPU7Wy/4R3UbvfavviWTfa28iDLwyjaWDfLnGCCeQ/wCH5v8AwSy/6Oi/8snXP/kKvFxGL4dp15RrzpKaevN7O9/O6vf1NF4h4jKl9UjnE6Sp6cixNSCj1soqvFR32UVvtqet/wDDA/7Cv/Rlnwl/8Nzpn/xivTtA0DQvCmhWXhbwtotppumabaR2unadp9ssMFrBGoSOKONAFRFUBVVQAAAAMCvlb/h%2Bb/wSy/6Oi/8ALJ1z/wCQq%2BnvAPjrwr8UPAmi/EvwLqn27RPEWkW2p6Pe%2BQ8X2i1uIllik2SKrpuR1O1lDDOCAeK6MDiMnrTksHKm2lryct7efKlpfuKXF1XiT91PMZYnk1s686vLfS9pValr7XSV9r9Dwn4YfsL%2BK/AHjzwprWp/GfTdQ0HwP8UPFXi/w1pcPhCSC7C67/azz2lxcm9dJTFLqrFJUhi/dwhGQsxkHkmtf8EYn17xR488SXfx18PRXHjLwF4/8LnW7X4YImt3MfiaRXFxquom%2BL6m9kFEcKBYEMY2hUwGHuth%2B358I9X06xm0nwp4jmvrrRfFupXekyiwt5dLTw5erY6jHdyT3aQQMLt0gRml8tiSxdY1d14Twb/wU%2B8D/Hab4caj8BILOWx134z6j4G8bwX99Y6lLp5t/Bur%2BIUNtc6VfXFnK7G0sDvSeZAk00bBJVPlekQddJ%2BwwH8Q6rr4%2BKGDqfx10n4jmIaJ/q/sWkafpv2DPn/Nv%2BweZ52Bt83b5bbdzd58a/gbf/tAfs8678EvH/jGK3v9asGjTxBoelmAWV0komtbqKCWWXLQypC%2B1nYO0ZzgNgfPHiz/AIKqSSfA/wAK%2BNvhH8K9e8R3upwfD2TxH4om8PwW%2BjaM3iW705UguIBqTXMdw1re%2BaqQG6igaaDzZmUkt9IfGH48eH/hJ8AvHnx9utG1G4sfAXh/WNUv7K40%2BazluBp0MssqxidFLK3ksElUNG4IZGZSCQDnfgL%2Bz/8AFD4U6v4i8d%2BNfi1ofiHxV448Wxat401Gy8HzWFpJawaZFYW9lY27X0zWmz7PBKZJZbkszXA2qJU8ni/2cf2S/wBqf4H6L44v/Fn7THw/8WeMfGt2dRu/Gdz8Ir2Cea%2BDgQi5jOuyLLZwQAW8NpCbcRqAwcu0jPt/stfGz4/%2BIfip4n%2BA37So8I3PiLRvBXh3xXbal4K0q5srQWurSalAbJo7m5uHeW3n0ubM4dFlSaMiKMhlrmvGX7RP7VHwy%2BPGv/CO%2BufA3jSST4X%2BIvF2j6V4X8KX9ve%2BHjaTQx6ZDfs19OL0XhkmjQxpauz2U3lo4VzEARw/8EyfA3jbQ/E%2BqfH7x/qWseMvE/jK%2B8TyeIfAWp6v4QttOvrnSLTSD9mt9P1LzfLNpZRb1nuJjI8kzEgSbVxfE/8AwSr0Dxb8DPhl%2BzR4h8W%2BEtX8J%2BBfB9noGq6r4n8AS6t4mvIY9guxp%2BrXeoO2lxXSKYmjEU5jiYpE6bYyl74JftzeM779nTU/GXxK8R6N4m%2BJUdzpunWXw6074a6v4Nv7fWb%2BFTa6dPaavc3FzseUu32wKsQghmlwUhkYcDN/wUA/apHwZ%2BDHxK8Uat4P8J6d4q8H%2BJdS%2BJnjuP4M%2BIfEmi6Peade2FvboY7HUI20y2ljmvZmuLuZo1W0OWUBjQB61oX7CPinTP2gNP8AiPqPxus7vwlo3xR1P4gaToH/AAiRTV11a%2B065sZIZtVN2Vls0S8m2RLbJIFSCIzNHFsbUvf2R/izofwC%2BKPgX4QftIp4Z%2BIXxP8AGOpa9d/Ep/ChuWsDczxRRRx2gu4yz2%2BlW9tYRS%2BcCGt0n28eVWT8WP20fGml/th/C74D/B/RtD1TwnrXjBtB%2BIviO7Ekr211ceHdU1mys7FopFTzxFp8c85kDhYby2CqTPvj8s8Hf8FVdZ8SfDb4h/HeLxF4YubLTPCfiDVvAHw4fwRq9he6gLC9W0hlbXLib7HfoXaEXUdnbk2b3aRvIxjJkAPa/B37OP7SPwx/Z90H4G/Cr4wfCnQ10eCeylK/B2/n0%2BWxZQEVbWTXjKLgN5jyTy3EwmaVi8e4ljxvif8A4JheGvFGg/Cj4Yat4j8I6j4R%2BF/hnQNHj1DXPhzHeeLr2PS5I32Ra210q2cFz5EKTxR2pZkM4SRPNBjxfjD%2B1h%2B2h8Kv2ev2gnOs/DC6%2BI3wN8Nf8JOmsnwdqK6LrOlnSJr9YvsP9pmeCfzra4ty32t12qku3LmJd39sL9u3Wvgp8WdA%2BDXhzxz4c8IyS%2BBbjxd4n8U%2BJvh/q/iO1sbBJ47dM22mTwNbQBjM81/cTLBbLFGGDGYMgBe8KfsE/EPwn8U7Txpa/tBaZNpPhrxd4u8VeB7GXwM39oWmq699tMov737di/tIWv5/Lt0ht2KxWweVjAGOpB%2Bx/wDG3VNG%2BMHiLxd%2B0npUXj74reCrTw1D4l8JeBZNNsNBhtYr9Le7isZdQuJJrsNqMzNK9z8witk2qsIDVfFn7Zvji5/bg8CfAD4YaFol74Fv9Xv9E8Z%2BJLpZZJ31ddFuNVitbFkkVB5MUELTu6yK326ONCrxS7eV/ZZ/b68Y6p8LvE3j/wDa78W6VpmvaFoEWq3Xw4sPhDrfh3V7NJLiSCJIf7UvJf7Z8%2BXyreKS1jRHndUBLSKoAO4%2BMf7Ctn4gTwDqHwA8TeHfB%2Bo/DvwHqngjQx4i8Gf27Yx6BqEVjHPbrbC6tisqjTbTy5TIyhRKjRuspA5M/wDBIv8AZ/0rxD8MfFXgvxx470u/%2BH/iLRNU1KUfEPXfJ8Qf2XoLaNb%2Bbaw38VpDOYUtd86Q5kSB4nVknkzxUP8AwUi/aE0n4M%2BHrf4neHvCvh34jeKvjP4h8GxR6R4S1bxFaaPb6bHeXLldPsJftmrXCx2qwEQPCrs7XG2KONo6r/tAf8FTfEvwRsLDxr/wtP4Z3fhjTfhbo3i9r%2Bbw7fRS/Ehp7y7h1C00JDfZspbSG0SaSOUXrx/bYhKsSI0rAHpfwz/4J5%2BJPhJ41t9c8F/GDw/BpHhO28W/8Kz0g%2BAG36Zca/eC8nOpTLfD%2B04IpRhIY0tC6hTJJJIqyj0j9nL9nnxh8JvGHjr4q/FD4jaV4j8V/EDUbK41ifw54XfRtNhjtLVbaBYrWS6upDIVBLyyTuz/ACKAqxoo8r8C/t%2By%2BOv2tfEfw2uviJ4c0Dwn4b8X6j4Yg0a/8AavPfa5fWWnG5uPK1oTpp1tOGErrp5jmuHtrVpsqJQI/Pfh9/wVm1XVv2U/EP7VPiXxd4SmmvPCuia14S8BnwNrOky6XFrF7FZ2UlxqN1K8etWqTXUCTXdhbpErRyhN5ZKAPtnxz/yJOsf9gq4/9FtXlvjj/lIX8L/%2ByM%2BPP/Tt4QpP2f8A4wat8ZPgF4n1fxJ8T9E8T6tpVzfadqsmj/D7U/Cz6fMttHKLW50zVLie6tpwkqSfvGXfHNE6qFcFl8cf8pC/hf8A9kZ8ef8Ap28IUAezUUUUAFFFZvjDxl4Q%2BHnhe/8AHHj/AMV6boei6XbNcanrGsX0dta2cKjLSSyyEJGgHVmIAoA0qK5zTPjD8I9a%2BGQ%2BNej/ABS8OXfg06e9%2BPFttrlvJphtEBL3H2pXMXlKFbL7to2nJ4rndW/a/wD2S9B%2BG2m/GXXP2ovh1ZeD9YumttI8V3fjawj02%2BnUsGihumlEUrgo4KqxI2NxwaAPRa8Z/YP/AOSIa5/2Wb4j/wDqa63XsNhf2Oq2MOqaXexXNtcxLLb3FvIHjljYAq6sOGUgggjgg149%2Bwf/AMkQ1z/ss3xH/wDU11ugD2aiiigAooooAKKKKACiiigAorN8XeM/B/gDQZvFPjzxXpuiaZbDNxqWr38dtBEP9qSQhV/E14H8QP8Agrj/AME5Phw7Qax%2B1Z4d1CYHakPhsTasZG7Kps45QSTx1x71zYjG4PCL9/UjD1kl%2Bbv%2BBx4rMcvwKvia0Yf4pRX5tP8AA%2BjqK%2BRj/wAFSfGnxJBg/ZU/4J9fGLxyXH%2BjarrOkR%2BH9KnJ6bbu6Y8euUGKRdC/4LMfHRhLqfjv4WfAnTJOY4tI0xvE2sRe0hnItG%2Bqkd/auL%2B2MNU0w8J1f8MXb/wKXJH8Wef/AG/hKumFhOs/7kJW/wDA58kPxZ9dUy4uLe0ga5up0ijRcvJIwVVHqSelfJh/4J3ftWeK/l%2BK3/BV34sXiv8A64eENNstBJHfaYQ%2Bz8OlZXif/gk5/wAE9/C1sniP9qb4i%2BLPGCod39pfFb4q3W1mH8RKywIT%2BGPalLG5m1eOGUV3nUil/wCSqX5mtLEcQYyoqeGwL5nspVI3fpGnGpJ/K59AeO/2zf2Rvhgkh%2BIH7TvgHSXiB3W974stFmOOwj8zex9gCa8c1f8A4LPfsPy6jJofwo1rxf8AEjUojh9P%2BH/ge%2Bvnz2AZ4442z7MRXnk/jz/g3y/ZrcNBH8Fpp7Y/JLp%2BjL4imRh/deKO5YH3BzXZaR/wVq/Z5m06PRP2bP2YPjF44t1G2yh8D/C6aO19jul8oIvvt4HavOqZvVcuWWKowfaPNUl917fgfaYXww8ZcyoqtHLpUab%2B1KjUjH/wPEzw1P8ArYsj/gob%2B1t44/e/A/8A4JQ/FHUIm5jbx3rVj4ZYjsStwZMUH46/8FhvFY8nw/8AsI/Djwm8nCTeKfict%2BkXuws0Bb8KT/hqj/gqJ8Tjj4Rf8E5dL8KWj/6nVvib8QYFJ/3rO1Xzkx7k0v8Awqn/AILMfETnxZ%2B1d8IPh0snbwN4Gn1d4h/3EWAJ/So9tia3w1MRP/DThTX3ySOn/iFGbUf%2BRtxBhsP3X1ijKS/7cwtHFS%2BXtLoT/hSv/BYz4j/8jv8AtofC/wCHaSf6yL4ffD59UKjuFbUmB/HtTZ/%2BCYnjjxJC%2Bp/Hb/gpl8e9XZFLTroXiuLQrIjuWhhjYAf8C4qT/h2z8e/GfzfGv/gqR8bNTLf61PBl3a%2BHY39RtgR8A%2BlPg/4It/sTarOl18VYPHXj%2BVGDb/GfxB1C43MO5EUkYP5Yo%2Bo4mt8WGlL/AK%2B4h/8ApMNBf8Q/8L6H%2B/57VxD6qnQxM18nWr4aH/ki9Dyvxt%2Bxn/wRs8HXDWHx/wD2t5NcmH%2BusfF/x2leV/XdHFcI/wClc9LP/wAG1/wstDEYvh/dqnGEi1XWHP0IEzGvsLwP/wAE7/2FPh1AsHhT9kf4fxlRhZ7zwxb3Uw/7azq7/rXo3hr4UfC3wXIsvg74a%2BH9JdPuNpmjQQFfoUUYqo5HWvdUcPF/4Jzf3yauXDIvAvByvHAYuu%2B8ng6V/wDyniJL5ts/PnTPi/8A8EeLqVZfgh/wTG8S/EV/%2BWA8MfAl7xJPQ/6WqDHuRXYaP8QfHt/EIfgF/wAEB7aC3P8Aqn8UvoHh3YPUxPCx49Ac1960V0wySqt6sY/4KNKP4tTZ108y8NMv/wBx4apN961etP740qeHj9zPiKHwv/wU48TJt8L/ALBf7M/g1W%2B7H4o1GW%2B2fX7DEAfwon/Y7/4KZeO1%2BzeLPiV%2Bzj4Ojf70nhL4UHU2T/dW/AB/Gvt2itf7DoS/iVakv%2B3kl/5LCP5m/wDrvQo/7pkuX0u3%2ByRqNfOvVq3%2BcWfDlh/wR5%2BI2oXX9reOP28tea/b/WXHhH4daNoY/wCArDG23866mx/4JJWL24tfEf8AwUE/aUvoB1soPiWLW2P/AGzitxj86%2BuqKqHD%2BUQ/5d39ZTf/ALeioeJfGND/AHarTo/9esLg6f3cuD0%2B/wCZ8l/8OX/2PNS/5HfXfiV4mz98698SNQk3/Xy3Sren/wDBE3/gmJp4yv7L8E75y0l34p1aZmPqd90a%2BqaK0WRZKv8AmHg/WKf53Kl4qeJclZZziYrtGtKC%2B6n7NfgfOWlf8Ejv%2BCbujMHtP2SfDLkf8/RuJx%2BUsrV0th/wTk/YF05Alv8Asa/DRgOnn%2BDbOU/m8ZzXtFFbQyrK4fDQgv8AtyP/AMiebX4946xTvWzXFS9cRX/%2BWo8tsP2HP2KtLIbTP2QPhdbkd4fh/pyn9Ia39I/Zx/Z60Bg2g/AfwZZEdDaeF7SPH/fMYrs6K3jhMJD4acV6Riv/AG08utxDxDiVatja0v8AFWrS/OqyrpehaJokfk6Lo9rZpj7lrbrGPyUCrVFFbpJKyPJlOc5c0nd%2Bev53CvGf2X/%2BS3/tHf8AZZrH/wBQrwvXs1eM/sv/APJb/wBo7/ss1j/6hXhemSezUUUUAFFFFABRRRQAUUUUAFFFFABRRRQAUUUUAFFFFABRRRQAUUUUAFFFFABXwZ/wUt1T%2Bwv%2BCq/7EGq7sbtU8Y2uf%2Bu40OLH/j1fedfnX/wWNvZdH/4KD/sS6%2BnCWnjzUftDf3Yn1Tw5Gx/8frzM4lyZbOXblf8A5PTPuPDegsTxphaL%2B2q8fvwuL/yR%2BilFFFemfDhRRRQAUUUUAFFFFABRRRQAUUUUAFFFFAGV4G/5EnR/%2BwXb/wDota1ayh4M0NMrA19CmSRFb6tcxovsqrIFUewAFL/wh%2Bk/8/eq/wDg8u//AI7QBqUVl/8ACH6T/wA/eq/%2BDy7/APjtH/CH6T/z96r/AODy7/8AjtAHh/iD/gmn%2Bz54k8R/GbxLqGr%2BJhL8bdOtrTXLePUYfI0QRKS0mmoYSIGmnIuZhL5qyzKpZSvyGTwX/wAE7/hx4X8Xp8Q/EHxg8e%2BKPEB%2BJ0nju81fX73T/MutTbwrP4X8tktrOGJLcWE5ZY4kTEyI2dm6NvbP%2BEP0n/n71X/weXf/AMdo/wCEP0n/AJ%2B9V/8AB5d//HaAPnRf%2BCU3wXsvCug%2BAPDvxj%2BI%2Bk%2BHdJsfB8Op6Fp%2BqaeINfn8NNaHTLu8Z7JpBNtsraOX7O8EcqRKGT5VI9/1j4daR4t8D678OviFfXPiPSfEUN9bala6pHCoayug6vZjyI4wYljcxqWzIVA3u7ZY3P8AhD9J/wCfvVf/AAeXf/x2j/hD9J/5%2B9V/8Hl3/wDHaAPM/gd%2Bx7pfwLk1LWdO%2BOfjvxBr%2BqQ6LY3XijxNPps98dI0qSV7TSR5dlHF9mH2i7DOYzcsbyZzP5hWRc74S/sTXHwe8d%2BP/H%2Bg/tV/Eu%2BuviLqF7f6zHq0Hh%2BU291MvlwSQzrpK3G20iCRW0MsskMaIA0b859d/wCEP0n/AJ%2B9V/8AB5d//HaP%2BEP0n/n71X/weXf/AMdoA8j0n/gn/wDAXWD4gvf2jrI/G3UfEs%2Bnvqeo/FzQdI1ABLBLhLOOK1t7GC0hEP2y8KskAcm6lLO27jE0P/gmx8MPAH7O%2BnfsqfBP4teMvh74FgstRtNa0XwZZ6Hbf27FeuWnFzJJpkjxvtZ4xLatbyBW%2B%2BWVGX3f/hD9J/5%2B9V/8Hl3/APHaP%2BEP0n/n71X/AMHl3/8AHaAPHPGX/BM/9h7xp8UfA/xnuv2bvB1n4n8BeJbXWtN1yy8Kaf8AbL6a206ewtoru5kgeaeOFJY5YxvDJNZ2rhv3QBzT/wAEzvgRf/2zo3ivxZ4t1vwzf6B4h0bRPB19fWsdh4btNbmWbUVsWt7aK4DO6r5bzzTNbqNsJjXivdf%2BEP0n/n71X/weXf8A8do/4Q/Sf%2BfvVf8AweXf/wAdoA8O8T/8E8fD3jD4DfEf4JeIP2lfiXcXvxZha18eePXbRDrWoWJsRYfYlzphs4IfswKDyrZHDPJIH8x3c3Pib%2BwToHxb8N6bpPi79ob4if2pD4QvvCniLxRYNo9vf%2BJtEu3V5rG88vThBGvyAJLaRW80YL7JFLuW9l/4Q/Sf%2BfvVf/B5d/8Ax2j/AIQ/Sf8An71X/wAHl3/8doA8g1j/AIJs/sS6l8b/AAd%2B0RYfs5eDtL8W%2BCtak1Wy1nS/CenxXN/ctaSWqNdzm3M0xjEgljbeGWWKN9x24L9M/YN%2BF%2Bu65quv/tI%2BLtZ%2BNkmqaBHon2T4q6Vo11ZW2nrdx3hgW0s9PtreTdcQW8pkmjkk3W0JDjYK9c/4Q/Sf%2BfvVf/B5d/8Ax2j/AIQ/Sf8An71X/wAHl3/8doA8H8Jf8Evv2aPhR4U/4R/9ny3u/hpfW/xEvvGekeIPA2k6Ta3WmX93BcW0sUUcljJbSW4tbma3WKaGULGVwd8aOutc/sD%2BBJ/hv4a%2BB8Pxf8cweAdDtYodZ8FJc6e9p4oZbo3UkuozSWbXbGaZi0yQTwRyhmRkKMyH2L/hD9J/5%2B9V/wDB5d//AB2j/hD9J/5%2B9V/8Hl3/APHaAPK5P2HPhrN8bl%2BMMnjfxQdPTxc/ixfAXn2Y0T%2B3msGsW1EgW32ouYWYmI3H2cyMZfK8z565nw9/wTG%2BCGj%2BFbvwVq/j/wAa63p0Hg638K%2BDINUvrIHwbpNvcw3Vtb6c0FpGS0M9rZyJNdG5lzZQBnYKwb3r/hD9J/5%2B9V/8Hl3/APHaP%2BEP0n/n71X/AMHl3/8AHaAOA%2BHn7P8Ao3wF%2BHvjqaPx14g8Va34vvLjWvFPijxQ9r9s1K8GnwWUbMlnb29vEqW1nbQqkUMa4i3EF2dmzPHH/KQv4X/9kZ8ef%2BnbwhXqJ8GaG%2BFna%2BmTIJiuNWuZEb2ZWkKsPYgivLvHH/KQv4X/APZGfHn/AKdvCFAHs1FFFABXiH7f3hvxFrvwT0bVtE8Kalr9p4b%2BJfhXX/EGh6Pp0l5dXmm2OtWlzcGK2iVpLl4Vj%2B0iFFZ5Ps%2B1Fdyqn2%2BigD4u8NfD20%2BJP7J/xb8P%2BL9C8deEdO8TfEu/8eeE7b/hWWqXV3Z2sWswXdrK%2BmC38yZri9s3vJNOwLl4bsh442kOOR8HfFD9pH9nz4O/Er4u6n8MPFPizxT8ZPjW8ngTULf4Ha3Hb6BZNoGl2E%2Br3uiW8d1f2FoJdOupFtpT59yzwh2jNy8kX3/RQB5Z8A/hoPhp%2Bx14K%2BEH7PPiWewj8PeBtN0nwtqvjzwpdmVI7e2jijkvNOd7KdXKploS0DKTjCgba57/AIJ02/iW0/ZuvrXxlq1jf6vH8W/iGup32mac9pbXE48Z615kkUDzTNChbJCNLIVBALtjJ90rxn9g/wD5Ihrn/ZZviP8A%2BprrdAHs1FFFABRRRQAUV47%2B0B%2B39%2Bx1%2BzAZbT4zfH3QdO1GLg6Fa3BvNRLdl%2By24eUZPAJUDPevCjeftvf8FMmMemLrnwC%2BB9ycG7cCLxf4rtz/AHByNOgcd%2BWIP/LRHIHm4jNMPSqexpfvKv8ALFptf4ntBecmvJN6HkYrOcLRq%2Bwofva38kGm15yfwwXdya8oyeh6D%2B0N/wAFIvB/gb4gN%2Bzt%2BzH4Cvfi/wDFZyUfwr4ZnUWuk84Mmo3pzFaop6gksDgME3Bq5xvDv/Baf4rqRqnxE%2BCnwospRhDoek3muajAD/e%2B0EW7EdscV7v%2Bz/8As1fAD9kL4cf8IN8E/AmneG9IgTztQuQf310yg5nuZ3JeVsZ%2BZ2OBwMAADx/4n/8ABVr4HWPiyb4Tfsu%2BE9e%2BN/jeP5W0T4d2/n2dqc4DXOoEGCGPIILqZNp6gVwYhOnFVMxxLhfaFNuK9FZOpN92reSSPXyDgbi/jKtJUVUnyq8lRfs6VKPepWlypLvOpVpL%2BWPen4P/AOCSPwW1vxBb/EL9r/4keLfjn4nhbfHceO9Tb%2BzLZ%2B4t9OiIhjjP/PNvMXmvWNZm/Yo/Yx0NdZ1a3%2BGvwysghEMgtrHShIB/DGFCFz7KCT6V4qPgz/wVK/asPn/HP476R8CfC8/LeFPhfi91x4z/AATanJ8kEg/v2%2BQcfdrsfhN/wSe/Yf8AhdrP/CYar8KW8c%2BJHYNc%2BJviPfvrd3O46OwuMxBh13LGpqMNSnHXA4RQv9urpJ%2BdvfqP/t6UfRH2eF4F8OuF3fM8fGpV608HBV5X7TxdZxpX7uHtrdGzntU/4LIfsqazqMuhfs%2BeFfiL8XtRifY9r8N/At3dqj/7UkwiTb3LKWGPWoJP2xf%2BCkfxIQwfBf8A4JjXOiwyjEOt/Erx9aWSwk9DJZxAzEdyFbPGK%2Br9L0nS9D0%2BLSdF023s7WBdsNtawrHHGvoqqAAPpViu76lmdX%2BLimvKEIx/GXPI7v8AWXgjAaYDI41GvtYrEVqr9XCj9WpfK7XR3PkKP9h/9uD9oNxqP7ZX7eer6PYyHc3gn4IQHRrSP1Rr6QG4nQ9Crr24PNb3g/8A4I4f8E9PC%2Bo/29rXwNbxVqrYM2qeM9evNTkmI7sk0piP/fFfT9FOOSZZfmqU/aS7zbm//Jm0vlFEV/E7jeVN0cHi3hKT09nhYxw0LdrUYwlL1nVm31dzjvh9%2Bzz8AvhMqL8Lfgh4R8N%2BWPkOheG7W0I/GJFOfeuxoor0qdOnSjywikuySS/BI%2BKxWMxmOrOriasqk39qcpSf3ylJ/iFFFFWcwUUUUAFFFFABRRRQAUUUUAFFFFABRRRQAUUUUAFFFFABRRRQAV4z%2By//AMlv/aO/7LNY/wDqFeF69mrxn9l//kt/7R3/AGWax/8AUK8L0AezUUUUAFFFFABRRRQAUUUUAFFFFABRRRQAUUUUAFFFFABRRRQAUUUUAFFct8bfBFj8RvhRrvg3Utf17S4LuxJe%2B8M6/daXfR7CJB5V1aSRzQklApaN1YqWGRmvmZ/i98T9N/4Io/D/AOK6fEXVofEOrfCPwX/b3jOa%2BaS/tYr6PTodR1RriQlvOjgnuLgzMSQybyeCaAPsKvzl/wCC5f8AoHxy%2BAni/p/wj0Wq6jv/ALu3xF4PTP8A5Er6f/YouNV0Pxr8avg3B4y17XvDfgT4mW%2Bm%2BFrzxL4hutWvLaGbw/pF/PZve3kktxciO5u52DSyOyCYRZxGqj5D/wCC5PivxV4iu7q1vPhD4h0OLwn8Kteu9J17VLnTntNax4t8DbpLVba7mnQIud32iKA/MNob5seVnv8AyJsQ%2B0G/us/0Pv8Awpa/4iXk8HtPEU4f%2BDHKn/7kP03oqO0uob21ivbdt0c0auh9QRkVJXqnwLTTswooooEFFFFABRRRQAUUUUAFFFFABRRRQAUUUUAFFFFABRRRQAUUUUAFFFFABRRRQAUUUUAFFFFABRRRQAUUUUAFFFFABXjPjj/lIX8L/wDsjPjz/wBO3hCvZq8Z8cf8pC/hf/2Rnx5/6dvCFAHs1FFFABRRRQAUUUUAFeM/sH/8kQ1z/ss3xH/9TXW69mrxn9g//kiGuf8AZZviP/6mut0AezUUUUARXt7Z6bZzajqN3Fb29vE0k888gRI0UZZmY8AAAkk8ACvifxl8bPjT/wAFQ/Fl/wDBP9kDxJqHhH4LafdNZ%2BOvjJbIY7nXipxJp%2Bjbh908q9z0wePlws2h%2B2P458XftxfHZv8Agmv8B9fuLLw7YxRXnx88Yac%2BDp%2BnMcpo0L9PtFxjDj%2BFMghgJVH1t4C8B%2BD/AIX%2BC9L%2BHfw/8PW2k6JotlHaaXp1nHtjt4UGFUD6dSeSckkkk14lR1M2ryowk1Ri7Sa0c5dYJ9IrabWrfupq0mfO1ZVc8xE6FOTjh4Plm1o6klvCLW0I7TktW7wTSUmecfs9fsFfsg/stwwP8FfgNoOmX8Kgf27Pa/atRc45Y3U26Xk8kBgMngCqH7Vf7fHwK/ZSntfCGu3N94m8davhPDvw68J2xvNY1GRvuAQp/qkOD874BAbbuI215v8AtO/tbfFj4zfFi7/Ya/YDvIJfGMQC/EL4jvH5un%2BBrViQwz0mvmAYJEPukHPKsY/Tv2Uf2EfgP%2ByRb3Os%2BDtMutb8YasC/iTx/wCJrg3msatK3LtJO%2BSisRny02rwCQx%2BYzCpKbeGyyEYQjo52XKn1UYq3PJdW3yxejcndL9hyzhLhvg/LKOM4gg06kVOjg6Vqc5wavGpXnb/AGelPeCUJYirH3oKnBxqS8Xsv2Sv2sP2%2BbyLxb/wUH8TP4L8ANKs2n/ArwZqjD7Qmcr/AGvfRkNO3TMUZCggEGNgVP1b8MPhJ8L/AIKeE4PAvwi%2BH2j%2BGtHt/wDV6dounx28WcYLEIBuY92OWPUk10VFd2Ey7D4STqK8qj3nLWT%2BfRdoxUYrt1PL4g4xzjiCjHCS5aOEg7ww9JclGHnyJtzn3q1ZVKsus18KKKKK7z5QKKKKACiiigAooooAKKKKACiiigAooooAKKKKACiiigAooooAKKKKACiiigAooooAKKKKACvGf2X/APkt/wC0d/2Wax/9QrwvXs1eM/sv/wDJb/2jv%2ByzWP8A6hXhegD2aiiigAooooAKKKKACiiigAooooAKKKKACiiigAooooAKKKKACiiigDG%2BIPw6%2BH3xa8HX3w7%2BKngTRvE3h/VI1j1LQvEGlxXtndoGDhZYZlZJAGVWAYHlQeornvAX7Lv7M3wr8Ly%2BB/hh%2Bzr4E8N6LPps2nz6PoPhGys7WS0mYtNbtFFEqGJ2JLIRtYkkg13VFAGD8NfhX8MPgx4Qt/h98HvhxoPhPQLR3a00Pw1o8FhZws7F3KQwKqKWYliQOSSTzXxZ/wAFpNF/t7S7yx2bvL/Zx8e3OP8ArjrngubP/jlfeNfHf/BTrRv7f8Q6npapuZ/2S/iw8a46ulx4Wdf1UVw5pD2mWV494T/9JkfU8C4n6nxvlVf%2BXE4d/wDlel/mfTfwN1n/AISP4J%2BD/EO/d9v8LafcbvXfbRtn9a6mvKf2E9Z/4SH9iX4Qa0z7muPhjoLSHP8AH/Z8Ab/x4GvVq2wk/aYSnPvGL%2B%2BMX%2Bp5vEGG%2BpZ/jMP/ACVqsf8AwGrVj/7aFFFFdB5AUUUUAFFFFABRRRQAUUUUAFFFFABRRRQAUUUUAFFFFABRRRQAUUUUAFFFFABRRRQAUUUUAFFFFABRRRQAUUUUAFeM%2BOP%2BUhfwv/7Iz48/9O3hCvZq8Z8cf8pC/hf/ANkZ8ef%2BnbwhQB7NRRRQAUUV4h%2B394k8RaF8E9G0jRPFepaBaeJPiX4V8P6/rmj6hJZ3Vnp19rVpbXAiuYmV7Z5lk%2BzCZGWSP7RuRkcKwAPb6K%2BQfCEX7QPjj9jb4r/C/wCC/j/XtV1Hwv8AFfUtA8Jaze%2BKpf7V1DRbXVLdruwj1S4cyfaxEb/TYruWTzEkijZ5d6NJXlXwo8d/FL4qfEa1/Zi%2BIet/EnwX8Pj%2B0HrWh6cl58UruTX5LW18GWmqJpM%2Bu2V9LPIy6hNqMzCK8kZRY/ZmkZIZUIB%2BideM/sH/APJENc/7LN8R/wD1Ndbql%2Bxl8XviN4r/AGBvAfxe8RaRrPjrXrjwhBOn9nSWkd94iRfkhu1a5mt7fzLiIJOWaSND5hIIBApP%2BCdOrX%2Bvfs3X2t6r4YvtEubz4t/EOa40fU5IHubF28Z60TDK1vLLCXQnaTHI6ZB2swwSAe6V4n/wUG/advP2Uv2ZNY8d%2BFrU3ni7VpotC8B6WiB5L3WrsmO2RUP39p3Sle6xMOpFe2V8a6Pn9uX/AIKb3PiBv9J%2BHP7NYazse8Oo%2BMLhf3r%2BjfZIwFweUlUEcPXm5pXq06Co0XapUfLHyv8AFL/t2N5evL3PIznE1qWGVCg7Vaz5IvtfWU/%2B3Ic0vXlXU9l/YT/ZQ0n9kP4A6f4DuJ/7Q8U6o51Xx74hmkMk%2Br6zOA9zO8jcuAxKLn%2BFRnkknz/9vX9pH4l6h4s0j9g79kfUgvxU8eWzSanrcWSng3Q87Z9TmK/ckIJWIZB3HIIbyw/pH7bX7V%2Bg/sffAu8%2BJNxpbatr99cR6X4L8NQAtNrWrz5W3tkVfmILfM2OQitjJwDzf7An7JGu/s%2B%2BENV%2BKfxs1Zdd%2BL3xFuV1T4ieIXwxWYjMdhARwtvbqdiqvBIJGF2KvJWgvdyvCe6klztbxh2T/nnrZ7pc097H6pwZlGV8KZFHiLHUlKnTbp4SjJXVavBJuc0/ioYe8Z1b6Vazp0W2nWO7/Zb/AGXPhP8Ash/CSx%2BEXwk0bybaH99qepT/ADXWq3jAeZd3EnWSVyM56KMKoCqAPRqKK9mjRpYelGnTilFKyS2SPjsxzHH5vj6uNxtWVStUk5TnJ3lKT1bbf/DJJJJJJIooorQ4wooooAKKKKACiiigAooooAKKKKACiiigAooooAKKKKACiiigAooooAKKKKACiiigAooooAKKKKACvGf2X/8Akt/7R3/ZZrH/ANQrwvXs1eM/sv8A/Jb/ANo7/ss1j/6hXhegD2aiiigAooooAKKKKACiiigAooooAKKKKACiiigAooooAKKKKACiiigAooooAK%2BaP2wtF/4SP9onSfD2zd9v/Zo%2BJ9tt9d934UXH619L14j8UNOh1j9vX4c6Tcf6u6%2BCPj%2BF/o2qeEVP86irD2lKUO6a%2B9NfqdWBxDweOo4hfYnCX/gMoy/9tMv/AIJT6z/b3/BOn4Q32/d5fg6C3z/1xZocf%2BOV9BV8p/8ABErUZr//AIJk/DWC64nsRq1pMufumPVrxQP%2B%2BQtfVlcGTT9pk%2BHl3pw/9JX%2BR9Z4lYdYTxFzmivs4rEL/wArVH/7cFFFFekfEhRRRQAUUUUAFFFFABRRRQAUUUUAFFFFABRRRQAUUUUAFFFFABRRRQAUUUUAFFFFABRRRQAUUUUAFFFFABRRRQAV4z44/wCUhfwv/wCyM%2BPP/Tt4Qr2avGfHH/KQv4X/APZGfHn/AKdvCFAHs1FFFABWb4x8GeD/AIieFr/wP8QPCmm67omqWzW%2Bp6PrFjHdWt5Cww0csUgKSIR1VgQa0qKAOKt/2a/2c7TwW/w3tfgD4Ki8OyaH/YsmgR%2BFbNbJtN8xpPsRgEflm33u7%2BVjZudjjJJqPU/2YP2ada%2BEtt8AtY/Z48DXfgSzdXs/BVz4Ss5NJgZXLqUs2iMKkOzMCF4JJ6mu5ooAh07TtP0jT4NJ0mxhtbW1hWG2treIJHDGoCqiquAqgAAAcACvH/2D/wDkiGuf9lm%2BI/8A6mut17NXjP7B/wDyRDXP%2ByzfEf8A9TXW6AOh/a5%2BNdv%2Bzl%2BzD48%2BOEsqJJ4b8MXd3ZCTo90IytvHz/emaNf%2BBVwn/BNv4NWX7NH7C/g3TfFMq22qX%2Bi/8JJ4z1C%2BkxI9/eL9quJJ3bqyBhGWJ6RD0rhP%2BCsbP8VbL4Q/sUWTF2%2BLnxPso9btgeZND04i8vjjvt2wN6cVpf8ABVr4heJ3%2BDfh/wDZA%2BE975HjH45a/H4W00xDmz0w4bUrsqOscdvlGxyBNkdK%2BexOKjSx1fEtXVGCil3nN81l5v8Adx%2BZfCOQ1OMPECngIyUYxUYOb2pxletXqPyp0Kbk/JJfaV%2BW/ZW0rU/%2BChP7UE3/AAUC8eafMvw58FTXOkfAjRLyMhbpwxju9edG/idl2RZGVC9A0Ss32lWH8Mfh14W%2BEXw50L4WeB7AWuj%2BHdJt9O0yAdUhhjWNMnucKCT3JJ71uV6eX4R4Sh77vUk%2Bab7ye/yXwxXSKXmfT8YcQ0%2BIc2vhYezwlGKpYen/ACUYN8t%2B85turVlvKrUm3oopFFFFdx8qFFFFABRRRQAUUUUAFFFFABRRRQAUUUUAFFFFABRRRQAUUUUAFFFFABRRRQAUUUUAFFFFABRRRQAUUUUAFeM/sv8A/Jb/ANo7/ss1j/6hXhevZq8Z/Zf/AOS3/tHf9lmsf/UK8L0AezUUUUAFFFFABRRRQAUUUUAFFFFABRRRQAUUUUAFFFFABRRRQAUUUUAeRft9fELxp8J/2KPin8SPh5rMmmazovgbUbqy1eGMM%2BmlYG3XihgVJgXdMNwK/u%2BQRkV5F4O8Y33wI8M/tReDNC%2BM/iy58J/DXw3Bq2heJtc1i68T6joVzLoBu7qJJr2WSa78sJBeJBJI3N7tUrG0ar9a3tlZ6lZy6dqNpFcW9xE0c8E0YdJEYYZWU8EEEgg8EGuR8Afs5fs9fCjSLPQPhb8CPBnhqw09rprCy0DwvaWcNsbkKLgxpDGqoZQiCTAG8Iu7OBQB81/8EwNS%2BNehfEvx18Kvjfr1%2Bb%2B3%2BH/gvxBa6M3xQ1DxlaRrfLqscl%2BmpaiFnhmuZLNg9iim2hW1ikhkl%2B0SFfQL/wAaeJPEP/BTbwX4d1b4R%2BIdCs9J%2BD3jhLDXtVudOe01oNq3hLL2y213LOgTaM/aIoD842hvmx658J/gR8D/AIC6Vd6F8DPg14U8F2N/c/ab6z8J%2BHbbToribaF8yRLdEDvtAG4gnAArhPHH/KQv4X/9kZ8ef%2BnbwhQB5j/wRjxYfsj6t4QHH/CPfFDxLp2z%2B7tv3fH/AJEr60r5L/4JNf8AEt039oLwe3H9j/tOeK4YU9IWNu6H8cmvrSvJyLTKKK7Jr7pTX6H6B4qe94iZlU/nqKf/AIMpYep/7kCiiivWPz8KKKKACiiigAooooAKKKKACiiigAooooAKKKKACiiigAooooAKKKKACiiigAooooAKKKKACiiigAooooAKKKKACvGfHH/KQv4X/wDZGfHn/p28IV7NXjPjj/lIX8L/APsjPjz/ANO3hCgD2aiiigAooooAKKKKACvGf2D/APkiGuf9lm%2BI/wD6mut17NXi37DNzBZfAfxBeXUqxxRfGP4kPI7HAVR411skn8KA2PLPCv8Axf8A/wCCx3iTxGf32j/Aj4aW2kW/dY9a1djPJIp6Z%2ByKY2A6EDPpVf8AZf8A%2BMvP%2BChvxH/a%2Bu/9I8J/C2N/h98N2PMct4p36rep2zuYQq4yHjfH8NcB%2ByD8Vrr4Zf8ABND42/8ABRXV5DBrXxI1vxN4tsHlOHhxJJZ6dbZ7KskQC9cCWvpT/gm98F0%2BAX7Dfw0%2BHUtkIL1fDEF/rClfnN7dj7VPuPVmEkrLk9lHpXyWATxtelfaTliJed5ctJfJLm%2BSPqOAX/Y3hrmPEH/L7MKjw9N9VTqL21eS83Qp4ej5KrNdbHt9FFFfWny4UUUUAFFFFABRRRQAUUUUAFFFFABRRRQAUUUUAFFFFABRRRQAUUUUAFFFFABRRRQAUUUUAFFFFABRRRQAUUUUAFeM/sv/APJb/wBo7/ss1j/6hXhevZq8Z/Zf/wCS3/tHf9lmsf8A1CvC9AHs1FFFABRRRQAUUUUAFFFFABRRRQAUUUUAFFFFABRRRQAUUUUAFFFFABRRRQAV4z44/wCUhfwv/wCyM%2BPP/Tt4Qr2avm/42/ES38If8FTf2ffCV1IAPFfwo%2BJFhboe80V14VuwR9I7eXj39qmc4043l5fi7fmyKlSFKPNLbRfe0l%2BLRzf/AATm/wCJR%2B0n%2B1V4Q6eR8ZBqO3/r7s0fP47K%2BtK%2BS/2OM6P/AMFMv2uPDJ4SS68F6jAP73m6TJ5h/wC%2BgBX1pXl5LpgeXtOovuqT/wAz9D8Tfe4rVb/n5h8HP/wLBYZ/%2B2hRRRXrH5%2BFFFFABRRRQAUUUUAFFFFABRRRQAUUUUAFFFFABRRRQAUUUUAFFFFABRRRQAUUUUAFFFFABRRRQAUUUUAFFFFABXjPjj/lIX8L/wDsjPjz/wBO3hCvZq8Z8cf8pC/hf/2Rnx5/6dvCFAHs1FFFABXn/wC0v8cbn4A/DWLxZovhFfEGtar4h0vQfDehyaj9jjvdR1C9itIFln8uQwQq0vmSyCORlijcqkjBUb0CvPv2mPgddfH74axeE9F8Xr4f1vSvEOl694b1yTTvtkdlqOn3sV3A0tv5kZnhZovKljEkbNFK4V42KuoB5/eftyX2gfsmePP2hfFnwjFt4g%2BG%2Br3%2BkeK/Clnrpntba9tbhYmlF8bdD9h8qSK7a5aBWjt2Z2hDI0deYX3/AAV1sLL4LWHxVn8I/Da2tb74i33hWPxrqPxjEPgKUW2nfbjeQ%2BIv7NbzY3bdZoPsq7ruC4hz%2B7DP6DL%2Bwt441X9n/wAW/B3xF8d7CbVfGfiL/hKNZ8R2fg54lfXhqkV8jfZnvXVtNCW1raGyZi7wROHuWMhYY9r%2BwB8Y9K8Tt8a9G/aR8Np8SLr4gX/ijU7y6%2BGssvhuV7rRLTRWij0oaos0TrbWMLic3rOZJLndlJjGoB718BPilL8cPgf4P%2BM03g7UfDr%2BLPDNjq7aDq64utPNzAk3kSjj5037TwOR0HSvnnQvHX/Csv8Agml8bfHyTeXLpXif4u3Fs2cfvh4q1/yx%2BL7R%2BNe0/B/9l34cfDP9ljw3%2ByV4n0608Y%2BGtC8L2uiXdv4k0yGaDU4oo1U%2BbbspiCErkRAbEGFAwor4t/aMg0j4af8ABFn4i/C/4aaBY6RDqXxk8XeGfDmkaZapb21vHL8RNSiWCKKMBY0WEOqooAAAAGK4c0rPD5bXqrdQk/nyu34tHm5ziHhcoxFZbxhNr15Xb8WiP4ueCXi/4Ji/ss/sP2kZW4%2BLOs%2BFbHWrReCthtTUr9z67H2Z%2Btfo/HGkSLFEgVVACqowAPQV8c3nh6w%2BIH/BWz4efC/S18zRPgJ8HLnUU4%2BWLUdRZLGOIj%2B99lRZB9K%2Bx64MmoqNStLpHkpr0pQSf/k8pH6XxFh1kfBvD%2BRR0cMO8RNf38TP3b%2BaoYen8pegUUUV7p8MFFFFABRRRQAUUUUAFFFFABRRRQAUUUUAFFFFABRRRQAUUUUAFFFFABRRRQAUUUUAFFFFABRRRQAUUUUAFFFFABXjP7L/APyW/wDaO/7LNY/%2BoV4Xr2avGf2X/wDkt/7R3/ZZrH/1CvC9AHs1FFFABRRRQAUUUUAFFFFABRRRQAUUUUAFFFFABRRRQAUUUUAFFFFABRXkX7fXxC8afCf9ij4p/Ej4eazJpms6L4G1G6stXhjDPppWBt14oYFSYF3TDcCv7vkEZFeU/Drxj45%2BBGmftM%2BDPhP4n8ReNdP%2BG2hWureCU8VeJL3XrqLVJdBN3Jpxu7uWW4mQultcCN5GK/byF2oY1UA%2Bs6/Pv/grD4xu/hf/AMFIf2L/AIpwblg0vW/EtpqdwDgQWl9c%2BH7GV2/2QJwD9a9S/wCCZ3j7WbmfUfhx8QbPxLL4qu/h74Y8ZXetav8AFu%2B8VW%2BqWepi%2BSK4CXASHSrhpbS4aS0s4xahTF5LyKmI/Ev%2BCyNt4y%2BLniTUtAT4R%2BI9Al8EfBDxhrvh/wATajcac9tqbWWv%2BDbqSa0W2u5p0CRwuG%2B0RQH94NobDY83OFP%2By60obxXMv%2B3Wpf8AttvmeRn6qf2LXlT%2BKMeZesHGf48jXzPa/gp/xJP%2BCxHxu0zp/bfwx8N6jj%2B95Je3z%2BuK%2BtK%2BJbr4g2nhz/gpF8C/2o7Vgvh79oH4PP4dkkzmOC8jWPVLVs9jIsgiUd8H619tVjk84uFaC6VJP5T5ZxfzUrn6tx7KOMhlGY03enXwOGs%2B7oxnQmvWMqcU/Jp9UFFFFewfABRRRQAUUUUAFFFFABRRRQAUUUUAFFFFABRRRQAUUUUAFFFFABRRRQAUUUUAFFFFABRRRQAUUUUAFFFFABRRRQAV4z44/wCUhfwv/wCyM%2BPP/Tt4Qr2avGfHH/KQv4X/APZGfHn/AKdvCFAHs1FFFABRRRQAUUUUAFfnH8YP%2BKu%2BGPwS%2BCcfzf8ACS/tzeLbq%2Bi/56WVj4z8QTzrj8UP4V%2BjlfmVpXiiOX9rT4WwyMDb/DnxL8evGl/Gfu4PijWraF2/3XQke9eRnkksvcX9qUI/Jzjf8Is8jOqNTFYOOFpq8q1SlTS7udWmrfge%2Bf8ABND/AIut8Z/2i/2t5/3ieLfik3h/RLg8iXTNGhFtDInorl36dSnNfXNfMf8AwRu8Kt4S/wCCa/wvtpkPn3%2BmXepXEjfela6vricMx6k7ZF5PYCvpyqySLWVUpS3kud%2Bs25v/ANKt8j9U8T61Opx9mFGk/wB3Qn9Xh/gw0YYeH3qi5esmFFFFeqfBBRRRQAUUUUAFFFFABRRRQAUUUUAFFFFABRRRQAUUUUAFFFFABRRRQAUUUUAFFFFABRRRQAUUUUAFFFFABRRRQAV4z%2By//wAlv/aO/wCyzWP/AKhXhevZq8Z/Zf8A%2BS3/ALR3/ZZrH/1CvC9AHs1FFFABRRRQAUUUUAFFFFABRRRQAUUUUAFFFFABRRRQAUUUUAFFFFAEV7ZWepWcunajaRXFvcRNHPBNGHSRGGGVlPBBBIIPBBrlPhz%2Bzz8Afg9p9hpPwj%2BB3g/wta6XLcyaZbeHPDNrYx2j3AUXDRLDGojMoRN5XBfYu7OBXYUUAct8L/gb8FPghbahZfBf4P8AhbwhDq14bvVYvC/h%2B209by4IwZpRAiiR8fxNk%2B9eS/tFeBbD4oftfeEfhpquPsviL9nz4kaZc7hkeXcah4TibP4Oa%2Bg68Z8cf8pC/hf/ANkZ8ef%2BnbwhUyjGcXGWz0%2B/QmcI1IOEldNNP0as/wAGfE1s/i34j/8ABDPwD8YdDtifG/7PmvQavawk/NBLoeoSW8kbEchRZZcjp8oz0r9KPh/420H4l%2BA9E%2BI3ha587TNf0i21LTpv78E8Syxt%2BKsK%2BTP%2BCf8A4T0ODx3%2B1d%2Bxn4qtBLplr8UrzUXsG4C6Zr9mJUiA/ubEkx/vGug/4I/%2BLNbj/ZYvP2efGl4ZfEPwa8Y6p4L1Vn4Z0tpy1vIB/cMMiIp6ERnFfL5LKVCtSUvt0%2BR/46EnH73D8j6vh2cs78F6MJO9XLK/K%2B/scRzU38o4nDRfk6vmfVVFFFfVHywUUUUAFFFFABRRRQAUUUUAFFFFABRRRQAUUUUAFFFFABRRRQAUUUUAFFFFABRRRQAUUUUAFFFFABRRRQAUUUUAFeM%2BOP8AlIX8L/8AsjPjz/07eEK9mrxnxx/ykL%2BF/wD2Rnx5/wCnbwhQB7NRRRQAUUVzvxX%2BK/gH4I%2BAr34mfE3XG0/R7B4I5porOa5lklmmSCCCKCBHlnmlmljijijRpJJJERFZmAIB0VFeeWX7VnwFv/gVd/tJJ45eLwhp7XEd/e3mkXcFzbXEFw1rLayWUkS3SXS3CmD7M0Qm83EYQsQpxo/25/2aZfh/J8Rk8W619ni8T/8ACOPop8D6wNc/tfyBc/YBo5tP7QM/2Yi58sW%2B7yD52PK%2BegD1yvx%2B8OeLPtHxI/bA%2BIqy/wDJPfhl8RvDML54hudT8ceILlD7Mdw/Cv1y8K%2BJNN8ZeGdO8XaNHeJZ6pYxXdqmo6bPZ3CxyIHUS29wiTQPgjdHIiuhyrKCCB%2BNi6Td6b%2ByN%2B3/AOO9NTN74w/aev8AwnZN/wA9Hg8Uzbk/74u3/Ovm%2BJ5SjgYtdHKX/gNKo1%2BLR6/COXf2v4kcO4J/DPHYdy9IS59fJW18rn6pfsSeE/8AhBf2N/hT4QaLZJp/w60WGcY/5aiyi3n8W3H8a9QqpoGjWnh3QrLw/YLiCwtI7eEY6IihR%2BgFW69/D0lQw8Ka%2BykvuSX6GGb46WZ5ticZLerUqT/8DqTn/wC3hRRRWp54UUUUAFFFFABRRRQAUUUUAFFFFABRRRQAUUUUAFFFFABRRRQAUUUUAFFFFABRRRQAUUUUAFFFFABRRRQAUUUUAFeM/sv/APJb/wBo7/ss1j/6hXhevZq8Z/Zf/wCS3/tHf9lmsf8A1CvC9AHs1FFFABRRRQAUUUUAFFFFABRRRQAUUUUAFFFFABRRRQAUUUUAFFFFABRRRQAV4z44/wCUhfwv/wCyM%2BPP/Tt4Qr2avGfHH/KQv4X/APZGfHn/AKdvCFAHkfjDUm/ZV/4K16f4%2B8SRCHwl%2B0F4StvD6amDhIPEenk/Z4pew823YRx92diBwpNV9Z1hv2Gv%2BCml/wCMPFUAt/hz%2B0jHYWSauGxBpXiqziaKKKXsguoicN/FITnhGI9p/bv/AGXoP2uf2add%2BFNlefYdfi2ap4N1dX2Pp2sWx8y1mVxynzZRmHISR8c15n8J9Q8E/wDBWX/gnrc%2BBfjPpzaf4hdJdD8Z2yxBbnw/4lsiFadF/wCWbrKEnVc/ckCNkFhXzFfD1qWKlRpfFzOtSvs5bVIPyd7%2BSnf7J6Xh9nmB4a4lxOVZom8Dj4SjO2soxnKEpygus6FaNPEQX2o%2B0h9q6%2BraK%2BaP%2BCdP7TPjbx7oGt/stftIXccHxg%2BFNwul%2BKIpJPm1mzAH2XVos8yRzRlCzf3juIUSKK%2Bl697B4qljcPGtDZ9HumtGn2ad015eaOniLIcdwznNXLsVZyg1aUdYThJKVOpB/ahUg4zhLqpa2akkUUUV0niBRRRQAUUUUAFFFFABRRRQAUUUUAFFFFABRRRQAUUUUAFFFFABRRRQAUUUUAFFFFABRRRQAUUUUAFFFFABXjPjj/lIX8L/APsjPjz/ANO3hCvZq8Z8cf8AKQv4X/8AZGfHn/p28IUAezUUUUAFeQftsfDfx98Q/hPpF98MvDLa7rHhPx/4d8Tw%2BHUu4YH1aLT9Tt7ie2jkndIlmMKSGLzHSMyrGHdFJdfX6KAPjPX/AIA/tEeNf2Qfi74Hu/gPe2eu/EvxtceKx4avNa0zfb2Emp2yvpsdzFdPHBqrWFo06TqTbwXVzGy3DGIuPPbT9iD45WsOm/Ej/hT/AMVIvD%2BlfGzVtetfh5ZfFa3TxtNo974at9PM1zrv9qgz3C6jDJIu7U2lWxkSHzisYtK/Q6igDyz4DeBPj2f2SPDHw/8AjV8TdU0v4gDwzBb634m0mSyu761uQB82%2B4t5baedVwjyNCyO4dguGFfnu/wp1PwR%2Byh4d%2BFmsa3eavefEv8A4KKa8uoanqKW63OoxR%2BK9Uhe7mW3jjiDsLBHYRxogLfKijCj9W6/OV/%2BKo%2BOn7NHww%2B8Ln9p74xa6yen9neJNalDH6GSvGz2EZ5e0924xX/b84Rf4XPvPDCnBcdYXFv/AJh4Ymt6ezwmJlf5PlfyP0aooor2T4MKKKKACiiigAooooAKKKKACiiigAooooAKKKKACiiigAooooAKKKKACiiigAooooAKKKKACiiigAooooAKKKKACiiigArxn9l//kt/7R3/AGWax/8AUK8L17NXjP7L/wDyW/8AaO/7LNY/%2BoV4XoA9mooooAKKKKACiiigAooooAKKKKACiiigAooooAKKKKACiiigAooooA8i/b6%2BIXjT4T/sUfFP4kfDzWZNM1nRfA2o3Vlq8MYZ9NKwNuvFDAqTAu6YbgV/d8gjIrzr4GeOdR/Z%2B1r9oTwp4e1Dx58RfC3wztNO1fQNNn1q%2B8S61JdS6MLu50m2nuZJrm6kfZbzxws7sG1AKu2Mxov07e2VnqVnLp2o2kVxb3ETRzwTRh0kRhhlZTwQQSCDwQa5T4c/s8/AH4PafYaT8I/gd4P8LWuly3MmmW3hzwza2Mdm9wEFw0SwxqIzKETeVwX2LuzgUAfMv/BKP42%2BPfij4%2B%2BO%2BifE/wAaePdY1m08baXqE0Hi7wjrulWekG80LT5pdP0%2BLVrWAwW0U7TLHCFWRo9k8ik3HmSeh3/jTxJ4h/4KbeC/DurfCPxDoVnpPwe8cJYa9qtzpz2mtBtW8JZe2W2u5Z0CbRn7RFAfnG0N82PeNK8K%2BF9C1bU9e0Tw3YWd9rdzHcaze2tmkct/MkKQpJM6gGV1ijjjDMSQkaqOFAHlHjj/AJSF/C//ALIz48/9O3hCgD2avi79obw58Tv%2BCd/7RPiL9un4ReFZ/Efwu8bG3k%2BNXg/TYc3elTRKUGu2ig4fCkmdOM/MzHB3xfaNNmhiuImgniV0dSro65DA8EEHqK48bg1i6atLlnF3jJbp7bdU1pJPRptdmvPzHALHUo8snCcHzQkt4ytbbqmm1KL0lFtaOzXzJ%2B0D%2BzN8N/25/CXhj9rr9k/4sW/h74iabYi7%2BH/xN0Q7kuYuf9CvUA/fWzEsjxupaMlxtP7yN5f2UP8AgoLYePvFj/sy/tXaHb/Dn41aSwgvvDN/Lstdc/u3emTMds8UgBYRhi68j5gu6uL8TfsoftN/sK%2BNNZ%2BLn/BOyHTvEPgjWL5tR8T/AAG1if7PCsxH72fSLjpbSNjPksNnGAGxHGujZfFr/gnt/wAFWfCj/Bf4xeGo9N8aaZK0dz4I8Xx/2X4m0C8ABY2xJWTIIB3RFlI2h16rXhKpWpYu8bUq8vijK/s6tusZdJefxpaTjJJSPtOH%2BPssx%2BX0uG%2BMqckoaUKsLOpRu7tUZTajXoSb5pYWc4zg25UnCTl7T67or42s/CP/AAU1/YbiOn/Dy/tf2jPhzZt/ouleINRFj4u0%2B3HRFumHlXoUZ5cGRzhVVRgV23we/wCCrn7HvxN1v/hA/G3jK7%2BGnjGJhHe%2BDvifYto15byHou6bELknoFkLHj5RnFepTzfDc6p4lOlN9J6J/wCGXwS%2BUk/7qPaxvh3nbw8sZk0o5hhlq54e85RX/T2hb6xRffnpSintVejf0nRUdrd2t9bR3tjcxzQyoHimicMrqRkEEcEEd6kr1T4Jpp2YUUUUCCiiigAooooAKKKKACiiigAooooAKKKKACiiigAooooAKKKKACiiigAooooAKKKKACiiigArxnxx/wApC/hf/wBkZ8ef%2BnbwhXs1eM%2BOP%2BUhfwv/AOyM%2BPP/AE7eEKAPZqKKKACiiigAooooAK/N/wDZ2v7TW/8Ago94F0y%2BmCxeC5PjJrzEgny/tfj7WLEHA5ySAoxyTxX6QV%2BaH/BPP/ir/wDgo38ZPEON/wDwiF/r%2Bhbv7n2v4mave7fxxmvJzb3vq9P%2BarD/AMl5pf8AtqP0Dw//AHLzbF/8%2BsBibetT2NBff7WSP0a/4TDSf%2BfTVP8AwR3f/wAapf8AhMNJ/wCfTVf/AAR3f/xqvnbx9/wWR/4JvfC/x3rXw08c/tG/Ydb8O6tc6ZrFl/wiGsS/Z7q3laKWPfHaMj7XRhuUlTjIJHNZP/D8v/glp/0dD/5ZOt//ACFVSzzJYScZYmmmv78f8zOj4W%2BJmIoxq0skxcoySaaw9VpppNNNQs0000%2BqafU%2Bn/8AhMNJ/wCfTVf/AAR3f/xqj/hMNJ/59NV/8Ed3/wDGq%2BdvAP8AwWR/4JvfFDx3ovw08DftG/btb8RatbaZo9l/wiGsRfaLq4lWKKPfJaKibndRuYhRnJIHNd9%2B398YPiZ%2Bz7%2BxN8U/jj8G7TTZvE/hLwPqGq6OurzMlussELSb32xybtqhmCbcOyhCyBi69eFxuDxsXLD1IzS35Wnb1sfP55wzxJwxWhSzjBVcNKabiqtOdNySdm0ppNpPRtddD0v/AITDSf8An01X/wAEd3/8ao/4TDSf%2BfTVf/BHd/8Axqvn3Uv22/jV4V%2BIHjnwX8Q/gZ4F0Kx%2BGXw9s/E3jjxNdfFO6awge7i1Rre2tj/Y4lnAfT4xLK8cRRLgskczxiKTl/ht/wAFKtX%2BKuqeGdD1b4T6v4X1uL40S%2BDvEOkLLeW0MiHwfqGvwz7dY0e0vXhdIYk2/Z7SQSoGWWSFStx0nhn1V/wmGk/8%2Bmq/%2BCO7/wDjVH/CYaT/AM%2Bmq/8Agju//jVfPP7JX7fPxJ/aH0/RLjxz%2BzB/wj934s%2BE2i/EHwnpfh7xrDqs91p18wR4JzcQWUVvcQl4mKh5EdHyHDKY66n9qvxb8VdS%2BLXwv/Z4%2BFvxX1HwI3ja61i61bxXo2m2N1exW9hZCRbaBb%2B3uLdWkmmhZmeJz5UEqrtZhIgB67/wmGk/8%2Bmq/wDgju//AI1R/wAJhpP/AD6ar/4I7v8A%2BNV85QftB/tI/E//AIJkeEPj/wDD60uf%2BE513SPDs3iG78K6Gt7cW9rLf2kWsahp1lIsgnlSzN5c28BWXcyxrsnP7t%2BB8K/tL/EHxp%2BzL8QvG/jP9qr4l%2BCofhZ8Rr/w9p3iI/D/AEiHxF4w8y0sbjTYZdNvNMZRcySX6WyW0FtbzTOsalYnZkoA%2By/%2BEw0n/n01X/wR3f8A8ao/4TDSf%2BfTVf8AwR3f/wAar4c/aB/ar/bs%2BBFhofxF%2BLtp4p0a80vwJ4KvZvC/grwPDqXh/X9aubsxeIrO/wBRa2mawEKmNbcC4tcl1ZDdsTCul8Of2l/2rvFv7Zsfg/VviJrtl4K8T/Ebxn4R0LV5NG0WXwzcSaba3rW9rpjRx/2p/asD2Ny1yb4iyc2F%2BkRYiEAA%2B0P%2BEw0n/n01T/wR3f8A8aq/YX9pqdol9YziSKQZVgCO%2BCMHkEHIIPIIrwP9jDxz8UfFHxJ%2BJvhrUfjXrPxK8CeGr6w03w7458Q6Vpttc3OtR/aV1izibTbW1t7m2tmWzQSrFlbhryFncwEL7b4P/wCQTN/2FL7/ANK5aANWiiigAooooAKKKKACiiigAooooAKKKKACiiigAooooAKKKKACiiigAooooAK8Z/Zf/wCS3/tHf9lmsf8A1CvC9ezV4z%2By/wD8lv8A2jv%2ByzWP/qFeF6APZqKKKACiiigAooooAKKKKACiiigAooooAKKKKACiiigAooooAKKKKACiiigArxnxx/ykL%2BF//ZGfHn/p28IV7NXjPjj/AJSF/C//ALIz48/9O3hCgD2aiiigAryf9pP9h79lr9razVPjl8ItN1O/hQCy1%2B3U22pWhHKmO6hKyqAcEKWK5HKmvWKKyrUKGJpunVipRfRpNfiYYjDYfF0XSrwU4vdNJr7n/XmfH8P7Jv8AwUd/ZoUx/snftm2Pjzw9bnNp4L%2BOGnvcyxIP4F1S2xO3HCqyqi4HvXL/ABZ/ae8Ua5oJ8Hf8FJP%2BCRfibUrCAFX1vwlplp4t0%2BMd51ZNstovfIJdfrX3RRXlzydRg4UKsoxf2ZWqQ/8AAal7L0kcWEwOPyjERxGU4yrh5xd42k5KL/u8zU4/9u1F%2Bh%2BXXw/X/glvPfu/7F3/AAUy8a/APUvOYt4Zv/EVza6XBMTkrNZasoRyD2Eu3kgV7v4P1r/grJ4a00an8Lfjx8Cfj9okQH%2BmTRvpOo3C9irWTNaqT7k19SfEb4FfBL4wQG2%2BLPwf8L%2BJ4yu0r4g0C3vOPbzUbFeEeLf%2BCNP/AATp8Uagdb074AL4d1EEmLUPCevX2nPET/dSGYRj/vivM/sbMMP/AAOVf4J1KX/kr9rT%2B6KPul4m%2BI9Rcub08Hma74mivaP/ALipRq383Wl67GSP%2BCh37Vfw7Hl/tDf8EtPihYiPia7%2BHd/aeJ4yP74WBoyF74PIHWrOlf8ABaT9gpb1NH%2BI3jfxJ4E1Fzj%2BzvGvgnULORT3DMsLouPdqr/8OqdU8KfP8Gf%2BChn7QnhoL/qbC58crqNlF6Ygmi/m1V9U/Yz/AOCl%2Bm2T6boX/BTjTvEmnsMDSfHHwc02dGHo80b72/Kn7TiWh0cvVUp/jGVJ/gH%2BuXCeJ/5GHC9Sk%2BrwmO0%2BVPERqr5c3ldHsngn9vT9if4ihF8G/tY/D28lk%2B5a/wDCW2kc5/7ZSOr/AKV6ho%2Bu6J4hsxqOgaxa31u33Z7O4WVD/wACUkV%2BfHjb/gnf%2B3DrZd/EX7Pv7F3jXdnzbvUvAd/pl9L9JbVBg/VsV5hq/wDwTG%2BN2k3japF/wSo8APfD/l9%2BHfx61PSG/wCALcylF/75o/tnOqX8TC39I1F/8sQv7T8KMRu8zwz/AL%2BEoYhL50MRTk158t/I/WCivyVH7Of7cHgn5tH/AGa/2sPCAj%2B7D4O/aj03VLf/AL9Nb5Ye2aX/AIT3/gpb4I40vxB%2B2Lp%2Bzp9r%2BFWj%2BJ8fnNHv/rR/rPOH8XCzXpf9YRD2XhpW/hcQ8nlXwGYUvvcKddfcfrTRX5LD9vb/AIKaeDx/xMfHnxYn2df%2BE3/ZMWxz/vfYrl8fhSr/AMFlf28vCxA1zUfhZLEv3z4h%2BFvi2ymx/wBsI3QGj/XDLI/xITj/ANu/8FB/ZPClT%2BDxJlz/AMdavR/9PYKH4n60UV%2BTcX/Bw18W9ElFv4i8MfCXUZR1jsbjxDZE/jc2JA/E1taV/wAHH%2BulxHqP7J3hu7XvcWXxhtoB/wB8XFop/Wqjxnw83Z1Wv%2B3X%2Blyo8NYet/u%2Bb5bU/wAOZYNfhUqUn%2BB%2BpVFfm5p3/Bxf8PdobxB%2BzPPb/wB77D8S9HuMfm6ZrTh/4ORv2SbMZ8R/Bjx9D/e/s6bSbvH/AHzfLmt1xZw698Ql6qS/9tNIcGZxWdqFTDVP8GNwEvyxsT9EKK%2BDNF/4OKP2EdZAY%2BDvibbA95vDFu%2BP%2B/V09dLp3/Bej/gn3eAG71zxlZA9TdeC7o4/79hq3hxJkE9sTD7/APNIcuBuK4uyw3N/hq4af/pGLmfZ1FfI9r/wXN/4JlSYGofH69sCe134J1cf%2Bg2rVsaf/wAFn/8AgmRqWPs37VmmLn/n40PUov8A0O2FbRzzJZbYmn/4HH/MP9Q%2BNmrrLaz9Kbl%2BMXI%2BoKK%2BeLH/AIKxf8E5NRx9n/a68Jrn/nvcSRf%2BhoK2bL/gpT/wT/1DHkftj/Dpc/8APfxVbRf%2BhsK2jmmVy2rw/wDA4/8AyRnLgfjaCu8rxP8A4IrP8qTPbqK8nsv28v2HdQwLL9sn4VyE/wAK/EHTc/l52a1rP9rj9lLUcf2f%2B058PZ89PJ8aWLZ/KWtljcFLarF/9vR/%2BSOKpwzxNR/iYCvH1oVl%2BdFHoVFcjafH/wCA%2BoY%2BwfGzwjPnp5PiS1b%2BUlalp8Sfh1f4%2Bw%2BPtFmz08rVYW/k1aqtRltJP5r/ADOGpluZUf4lCcfWE1%2BcEbVFV7XVtLvubHUrebPTyplb%2BRqxWiaexxyjKLtJWCiiigQUUUUAFeM%2BOP8AlIX8L/8AsjPjz/07eEK9mrxnxx/ykL%2BF/wD2Rnx5/wCnbwhQB7NRRRQAUUV4h%2B394k8RaF8E9G0jRPFepaBaeJPiX4V8P6/rmj6hJZ3Vnp19rVpbXAiuYmV7Z5lk%2BzCZGWSP7RuRkcKwAPb6K%2BIfEfxM%2BI3hX/gnz8ZtG8NfF3XzL4Y%2BKt94O8BeKtQ164nvriGTWbW0htJdSkkM6BLi5l05r9naa3SIzMzyQknyX4h/tC/tB/Cn9l34u/ADVNR%2BJ%2BmaxZ/ELW9O1fxF4KuPEnjk%2BBtMg8N6ZqaWdrrsds9/I9y15Dtu7tLZrU3l6EZRYwGQA/Tivzk/4JDeH3f9ob9sTx3ICwuv2lLrTImPRRb%2BI9SdlHpzcAmvsf8AZ/8AiprHiD9jfwT8WtK8J%2BKfFWoXXgXTbv8Asp7YWeralMbaPfldVktgsjNubdO8Yb7245BPzV/wR70rUJPhN8ePH2teGL3Rr3xL%2B2J4yu5dL1J4GubIL4gWP7PK1vJLEzxusisY5JE3A7XYYY%2Bfi6ftMVh3/LKT/wDJJL9T67h7GrB5BnEb61aNKn9%2BKpTf4U0fdNFfMXj/AP4Ka/8ACBeO9b8C/wDDvn9p7Wv7F1e5sP7Y0D4T/abC/wDJlaPz7aX7SPNhfbvR8DcrKcDNZH/D2H/rGp%2B1p/4Zv/7qrOWdZZGTi6mq/uz/APlZ%2BcS4hyaEnGVXVafDU6af8%2Bj60rF%2BI/w88GfFz4fa58KviNoMWq%2BH/EukXOl65pk7MqXVpcRNFNEShDAMjMMqQRnIIPNfPngH/gpr/wAJ7470XwL/AMO%2Bf2ntF/trV7aw/tjX/hP9msLDzpVj8%2B5l%2B0nyoU3b3fB2qrHBxXs37SfjD4nfDz4BeL/iD8GfDlprPifQdAudS0fRb2F3TUpIEMptAEdCHlVGjRt2Fd1YhgCp68NjMNjIuVGV0t9JL/0qMf1O3B4/B5hFyw8uZLR6SXn9qMfwuY0H7Gv7PC%2BFfFPg7U/CGpavZ%2BNfDdvoPiqXxF4r1PU7rUrCD7T5Mclzd3Mk%2B9Ptc%2BJQ4lG5fn%2BRNuf4J/YM/Zb%2BH%2Bprr2geAtSm1IeLh4ol1XWfGGq6leXGrjSJtGF3NcXd1JLO39nzy2%2BJGZdpVsbkRl8M8R/8FH/ib8SPC1z4x/ZcbQ9VsPEfjubSPhRLF4SXVG8QadYaQt1qt7I1zrelW0McV358Adrhdos3ASVpB5fE%2BDf26viN8XPEeifHiy%2B02unePPhl%2BzvqsfhRtfvfsOlT%2BIvF2u21/JB9mni3OYvJRmOUnW1hWZJYl8o9J2H2H4Y/ZO%2BBHgmx0Sw8HeE73Sl8OeBrTwdok2neI9QhmtNFtXjeC1WVJw52mKPMhYyMAQzsGYHR%2BN/7PXwp/aJ0TT9D%2BKWj6jMNI1E32kX%2BieIr7SL6xuDDLAzw3lhNDcRboZponCSAOkjKwKkivk34KftU/tPfG79qP4P%2BMNS8U%2BEhovjv4W%2BP9b8O/D3Srq909rWSzv8ARoLaDVpTNcJdSx%2BaUa4S2jNvI9wixSZyfbv239W8ST6Z8KPhvL4p1bw7pHjv4r2Gh%2BM9S8N67cafdQ2Z0%2B/ukgivbdop7fz721s7XzI2jkZbgqpUuKAPQpP2d/hYngMfDDRrHWNF0CLw5YaFZaZ4Z8V6jpUen2NmSbdLT7HcRGzdQdplgKSuiIjOyxoq8X4l/wCCev7Kvivwp4T8Haj4S8SW9t4J1671zw7d6R8R9esL6LVLpZVuL%2Ba8tr2O5u7mQTzBp55JJD50nzfO2eB%2BEWo/tC/FP/gm3430T4T/ABJu5/GlnqXjvw54B8Wavqpa4uLbT9e1TT9MuJLyUOWlNrbQD7W4cu2J237jniv2fbP4q/FnTvjf8DD4L8fWFj4S8U6MfBPh7xx%2B0Jq1pqsN/LpUU93p934g0i6v7pIxuW6EKzXW1bpNyqrLFEAfSviH9kv4KeLtf8MeIvF1p4m1aTwhb2EWj2Wq%2BP8AWbmxd7KTzbW4urOS7a3v7qOXEourqOWfzERzIWRWGbB%2Bwz%2BzJafEHUfidZ%2BCNTh1XUrnU7plg8YaqlpZ3moRyR317Z2i3Qt7C7nWWbfdW0cU7GeU78yOW%2BFp/jV8XPF/7NGpa/4v/aS8ZaZq/wALv2a/EXinw1f6X4su7YXvifTtY1Gzma4eGYf27BZvYWVsv2jzYrtLwSyRl7hdv0Hpa/Fn4L/t0r8Tvjrb6vqfh/4ufEG10v4cHTPjTrbReHXHhG2E1hceGmCacYftWm6rP9ojaaVXukkaNcNJGAe9fs2/sofBf9knwiPAPwMtPEljocVnbWlnpGtePdY1m2sYIFdYorWPUbudbVQHIIhCB8Lu3bFx2fg//kEzf9hW%2B/8ASuWtSsvwf/yCZv8AsK33/pXLQBqUUUUAFFFFABRRRQAUUUUAFFFFABRRRQAUUUUAFFFFABRRRQAUUUUAFFFFABXjP7L/APyW/wDaO/7LNY/%2BoV4Xr2avGf2X/wDkt/7R3/ZZrH/1CvC9AHs1FFFABRRRQAUUUUAFFFFABRRRQAUUUUAFFFFABRRRQAUUUUAFFFFABRRRQAV4z44/5SF/C/8A7Iz48/8ATt4Qr2avnD9o/V/jXo/7eHwnn%2BB3w/8AC3iLUm%2BEfjtbu08V%2BMLnRYI4P7U8JEuktvp96zvu2jYY1GCTvyApAPo%2BivGf%2BE4/4KF/9Gv/AAZ/8Pxq3/zL0f8ACcf8FC/%2BjX/gz/4fjVv/AJl6APZqK8Z/4Tj/AIKF/wDRr/wZ/wDD8at/8y9H/Ccf8FC/%2BjX/AIM/%2BH41b/5l6APZqK%2BcdJ/aO/bt1j4z6/8AA63/AGUPhIuqeHfC%2Bka7eXL/AB11TyJINRudSt4UQjwxuLq2lzlgVAAePBYlgvUf8Jx/wUL/AOjX/gz/AOH41b/5l6APZqK8Z/4Tj/goX/0a/wDBn/w/Grf/ADL0f8Jx/wAFC/8Ao1/4M/8Ah%2BNW/wDmXoA9morxn/hOP%2BChf/Rr/wAGf/D8at/8y9cv4B/aO/bt%2BInivxv4Q0f9lD4SQ3HgPxRFoWqyXPx11QJPPJpWn6mHi2%2BGCSnk6jCpLBTvRxjADMAfR1FeM/8ACcf8FC/%2BjX/gz/4fjVv/AJl6P%2BE4/wCChf8A0a/8Gf8Aw/Grf/MvQB7NRXjP/Ccf8FC/%2BjX/AIM/%2BH41b/5l6P8AhOP%2BChf/AEa/8Gf/AA/Grf8AzL0AezUV84/CL9o79u34y%2BFLvxf4c/ZQ%2BEltb2fijW9CkjvfjrqiuZ9L1W60ydxt8MMNjTWkjIc5KMpIU5UdR/wnH/BQv/o1/wCDP/h%2BNW/%2BZegD2O4tra7jMN1bpKh6pIgYH8DWNqHwx%2BGurZ/tX4e6Hc56/aNJhfP5rXmv/Ccf8FC/%2BjX/AIM/%2BH41b/5l6P8AhOP%2BChf/AEa/8Gf/AA/Grf8AzL1MoQl8SuTKEJ/Ek/VJ/odfffsz/s36pn%2B0/wBn7wRc56%2Bf4Us3z%2BcdY97%2BxJ%2BxjqWf7R/ZG%2BGFxnr5/gHTnz%2BcNZH/AAnH/BQv/o1/4M/%2BH41b/wCZeuX%2BCP7R37dvx4%2BDHhD44%2BFf2UPhJa6X4z8L6frum22ofHXVFnhgu7aO4jSQJ4YZQ4WQBgrMMg4JHNYywmElvTi/%2B3Y//InPLA4GfxUoP1jF/wDtp1V5/wAE7f2Cb7PnfsY/C9c/88fA9jH/AOgRCsu7/wCCX/8AwTzvc%2Bd%2Bx54DXP8Azy0KOP8A9BxWl/wnH/BQv/o1/wCDP/h%2BNW/%2BZej/AITj/goX/wBGv/Bn/wAPxq3/AMy9ZPLculvQh/4BH/5ExllGUy3w9P8A8Ah/8gc3df8ABJX/AIJwXn%2Bt/ZG8KjP/ADyjmT/0GQVn3P8AwRv/AOCZ13nzf2T9FGf%2BeWpXyf8AoM4rtP8AhOP%2BChf/AEa/8Gf/AA/Grf8AzL1y/wAbv2jv27fgP8GPF/xx8VfsofCS60vwZ4X1DXdSttP%2BOuqNPNBaW0lxIkYfwwqlysZChmUZIyQOazeT5S98PD/wCP8AkYvIcilvhaf/AILh/wDImJcf8ES/%2BCX11/rP2V7QZ/55%2BJ9WT/0G7FUp/wDghf8A8Et5slP2Z3iJ7x%2BNda/reGvUP%2BE4/wCChf8A0a/8Gf8Aw/Grf/MvR/wnH/BQv/o1/wCDP/h%2BNW/%2BZes3keSvfDU//AI/5Gf%2BrnD17/VKX/gEf8jyKf8A4IN/8Ew5vufAa/i/3PGWqH/0K4NVJ/8AggR/wTPl/wBX8Jtai/3PF99/WQ17R/wnH/BQv/o1/wCDP/h%2BNW/%2BZej/AITj/goX/wBGv/Bn/wAPxq3/AMy9S%2BH8if8AzC0//AUbRyTKIfBQivRNflJHhk3/AAb8f8E2pfueA/Esf%2B54suP6k1Wl/wCDen/gnNJ9zw/4vj/3PFT/ANVNeqfF39o79u34NeFLTxf4j/ZQ%2BElzb3nijRNCjjsvjrqjOJ9U1W10yBzu8MKNizXcbOc5CKxAY4U9R/wnH/BQv/o1/wCDP/h%2BNW/%2BZeofDmQP/mFh/wCAo6I5fhIfCmvSdRflVR89S/8ABu3/AME75PuW/jhP93xOP6xGox/wbu/sGRf8eXib4k23p5HimEfztjX0T/wnH/BQv/o1/wCDP/h%2BNW/%2BZej/AITj/goX/wBGv/Bn/wAPxq3/AMy9T/qzw/8A9AsPu/4JqsPFbTn/AODa/wD8vPnmP/g3z/Y8tzmx%2BMfxht/TyPGNuMf%2BSlWYf%2BCCf7Nlp/x4/tN/Hi3x08nx5brj/wAk699/4Tj/AIKF/wDRr/wZ/wDD8at/8y9cv4%2B/aO/bt%2BHfivwR4Q1j9lD4STXHjzxRLoWlSW3x11QpBPHpWoamXl3eGAQnk6dMoKhjvdBjBLK1w3kK2w8fx/8AkiZYWnLeU3/3Frf/AC883t/%2BCHnwds/%2BPH9tD9o6D08n4kQLj/yTq/b/APBGrwfZDFh/wUA/ahgx08v4qxr/ACtK9h/4Tj/goX/0a/8ABn/w/Grf/MvR/wAJx/wUL/6Nf%2BDP/h%2BNW/8AmXq1w/k0dqK%2B%2Bf8A8mc08pwNT4lJ/wDcSt/8vPKE/wCCR7264sf%2BClX7VcXpj4t/4W4qr8CP2S9T/Zc/4KG%2BD/7Q/ah%2BKfxJXXfgz4y8sfEvxSdTOm%2BTq3hbP2clV8vzPNG/%2B95Uf92vYf8AhOP%2BChf/AEa/8Gf/AA/Grf8AzL1Q8D%2BB/wBqzxj%2B1Z4c%2BN3xu%2BHHw98M6N4Z%2BHviHQ4YfCvxDvtauru61K%2B0S4RmS40ixSKNE0uUFg7sWlQBcZI3oZTl%2BGqqpShaS/vTf4ObX4Dw%2BU5fhaqq0oWkuvNN/wDpVSS/BnutFFFeieiFZvjHwZ4P%2BInha/8AA/xA8KabruiapbNb6no%2BsWMd1a3kLDDRyxSApIhHVWBBrSooA47Tf2dv2ftG8It4A0j4F%2BDrTQX0I6I%2BiW3hi0jtG0wu7mxMKxhDblpJG8nGzLscZJq34L%2BCnwa%2BHHw/k%2BE3w8%2BEvhnQfCsscyS%2BGdF0G3tdPdZs%2Bcpt4kWMh9zbht%2BbJznNdNRQBBpel6ZoemW2i6Lp0FnZ2cCQWlpawrHFBEihVRFUAKoAAAAwAABXzz%2BxD4Y03wt%2Bzx4svbHzCL39obx/qd87DOD/AMJ5qm9uB0VIx%2BC19G18lfsleLP2ztP%2BHviiz%2BGPwD%2BGGr6Enxp%2BIv8AZ%2Bo698XdR027mX/hM9ZLGS2i0C5SIhtwAEz5AByCdoTSbT7FxqVIwlBPSVr%2Bdndfc9T6g/4TnwT/ANDhpf8A4MI//iqX/hOfBP8A0OGlf%2BDCP/4qvLf%2BE4/4KF/9Gv8AwZ/8Pxq3/wAy9H/Ccf8ABQv/AKNf%2BDP/AIfjVv8A5l6ZB6l/wnPgn/ocNK/8GEf/AMVR/wAJz4J/6HDSv/BhH/8AFV5b/wAJx/wUL/6Nf%2BDP/h%2BNW/8AmXo/4Tj/AIKF/wDRr/wZ/wDD8at/8y9AGpe/A79inUvhzpHwe1H4P/C2fwjoF6bzQvC03h/TW07TbgtI3nW9sU8qGTdLKd6KDmRzn5jnQ0/4cfso6Ta2tlpXgP4e20NlaaTaWUNvpdii28GlzyXGmRIAoCJaTyyy26jAgkkd4wrMSfM/gj%2B0d%2B3b8ePgx4Q%2BOPhX9lD4SWul%2BM/C%2Bn67pttqHx11RZ4YLu2juI0kCeGGUOFkAYKzDIOCRzXUf8Jx/wAFC/8Ao1/4M/8Ah%2BNW/wDmXoA1rH4JfsW6Z4m1rxrpvwj%2BF9vrPiSG7h8RavBoGnJdapHdYFylzKE3zrNtXzA5IfaN2cVv%2BN9K%2BAHxM8EXPwy%2BJGm%2BDvEHhu8hSK78Pa5DaXdjPGjKyI8EoaNlVlUgFcAqCOgriv8AhOP%2BChf/AEa/8Gf/AA/Grf8AzL0f8Jx/wUL/AOjX/gz/AOH41b/5l6AOqHgn9mEeHrfwiPCPgMaTaeG5/D1rpf2Cy%2Bzw6ROI1m05I9u1bWQQxB4APLYRICp2jGHdfs%2BfsMX3wttfgde/BD4TzeCrK/N9Z%2BD5fDWmNpcF0d%2BZ0tDH5KSfvH%2BcKG%2BdueTXE/G79o79u34D/Bjxf8cfFX7KHwkutL8GeF9Q13UrbT/jrqjTzQWltJcSJGH8MKpcrGQoZlGSMkDmuo/4Tj/goX/0a/8ABn/w/Grf/MvQBu%2BIPhN%2ByB4ssfDGl%2BKvhp8NtTtvBMscvgy31DRtPmj0B0CBGsldCLUqI0wYtpGxcdBT9L%2BF/wCyTonxWu/jvo3w7%2BHNp44v0ZL7xla6RYR6rcKyKhWS7VRM4KoqkFjkKB0Arn/%2BE4/4KF/9Gv8AwZ/8Pxq3/wAy9H/Ccf8ABQv/AKNf%2BDP/AIfjVv8A5l6APUf%2BE58E/wDQ4aX/AODCP/4qjwYd%2BhmdQdk19dyxEjG5HuZGVvoVII9jXl3/AAnH/BQv/o1/4M/%2BH41b/wCZeuX%2BLv7R37dvwa8KWni/xH%2Byh8JLm3vPFGiaFHHZfHXVGcT6pqtrpkDnd4YUbFmu42c5yEViAxwpAPo6ivGf%2BE4/4KF/9Gv/AAZ/8Pxq3/zL0f8ACcf8FC/%2BjX/gz/4fjVv/AJl6APZqK8Z/4Tj/AIKF/wDRr/wZ/wDD8at/8y9H/Ccf8FC/%2BjX/AIM/%2BH41b/5l6APZqK%2BcfH37R37dvw78V%2BCPCGsfsofCSa48eeKJdC0qS2%2BOuqFIJ49K1DUy8u7wwCE8nTplBUMd7oMYJZeo/wCE4/4KF/8ARr/wZ/8AD8at/wDMvQB7NRXjP/Ccf8FC/wDo1/4M/wDh%2BNW/%2BZej/hOP%2BChf/Rr/AMGf/D8at/8AMvQB7NRXjP8AwnH/AAUL/wCjX/gz/wCH41b/AOZeuX1b9o79u3R/jPoHwOuP2UPhI2qeIvC%2Br67Z3KfHXVPIjg065023mRyfDG4OzapAVAUghJMlSFDAH0dRXjP/AAnH/BQv/o1/4M/%2BH41b/wCZej/hOP8AgoX/ANGv/Bn/AMPxq3/zL0AezUV4z/wnH/BQv/o1/wCDP/h%2BNW/%2BZej/AITj/goX/wBGv/Bn/wAPxq3/AMy9AHs1FfOOk/tHft26x8Z9f%2BB1v%2Byh8JF1Tw74X0jXby5f466p5EkGo3OpW8KIR4Y3F1bS5ywKgAPHgsSwXqP%2BE4/4KF/9Gv8AwZ/8Pxq3/wAy9AHs1FeM/wDCcf8ABQv/AKNf%2BDP/AIfjVv8A5l6P%2BE4/4KF/9Gv/AAZ/8Pxq3/zL0AezUV4z/wAJx/wUL/6Nf%2BDP/h%2BNW/8AmXrl/AP7R37dvxE8V%2BN/CGj/ALKHwkhuPAfiiLQtVkufjrqgSeeTStP1MPFt8MElPJ1GFSWCnejjGAGYA%2BjqK8Z/4Tj/AIKF/wDRr/wZ/wDD8at/8y9H/Ccf8FC/%2BjX/AIM/%2BH41b/5l6APZq8Z/Zf8A%2BS3/ALR3/ZZrH/1CvC9H/Ccf8FC/%2BjX/AIM/%2BH41b/5l6t/srfDn40%2BD9Y%2BKHjv46aB4X0nVPH3xCi1yz0rwn4ludWt7W1i0HR9MVXuLiys2aRpNOlcqItoWRBuY5wAet0UUUAFFFFABRRRQAUUUUAFFFFABRRRQAUUUUAFFFFABRRRQAUUUUAFFFFABXyv%2B09%2B1p8XPhj8ZPFms%2BAfDvg%2BTwx8H/D/h%2B98anWtIuJtW1S31e/lS5gsLiO4jSy8i2s47j95FOLmQpGRD5fmn6orxn4z/ALEPw4%2BN3xSPxM1zxz4q0uLUbXSLXxf4a0a6tU07xTBpd7Je2MV8stvJMFjmmlz9nlgMschimMsYVAAezUUUUAFFFFAHzH4c/aV%2BJkP7f/ij4P8AxG1jw94T8Nr4gtNE8GRaj8ItZS68YwDQINRxB4ja7XTmlju7nUALQQvJ5dpMAoLNIv05Xlfiz9lqDx/8ZNI%2BKfj343%2BNdX0rw9rsetaB4AuDpkWjWOoR27wRzhobJL2XZ5kkipNdSRiR92z5EC%2BqUAFFFFAHi/8AwUF%2BLvxw/Z%2B/ZH8afHr4BXvhSPWPBOhXeuXUHjDRbm%2Btru0tbaWZ7dEtrq2ZJXZEUSFyqAsSj8CvP/Hn7Wfxc8F/HjxbqfhTw74Pi%2BHng/4x%2BEfh94ys5tInOt6rquuwaKkeoQ3aXCwxxwf25pMZikt5XkSGfEse1BXsP7WP7ONl%2B1p8CNe/Z91r4q%2BKfCOk%2BJ7KWx1y/wDCC6d9rubKWJ4prbdf2l1GiOr8siLICo2uvOeLg/YB8HT/ABFs/iL4q%2BOPj7XWOs6TrnibRtQl0qKx8T65piIljq19HbWETLcRCC0IW2aCBjY2xeJjHkgHvdFFFABXi/7ZPxd%2BOHwStfAPjH4WXvhT%2BxtQ%2BJnhzw94vsfEGi3NzdXNrqus2Omg2csN1CltJGtzLJvkSdSURdnJNe0V5V%2B1d%2By2/wC1V4b0LwvP8ffG/ga30LxJYa6jeC4dHZ7u9sbyC8s2lOpafeDbFcW8bhYwgblZN6naADzj9nn9pX4ma3%2B1V4t%2BCPxQ1fw94T06HxTrdv4J8JSfCLWdMudetoXSU39vrVxd/YNQdjJNLLFbQF%2BS7FcMT9OV5LpP7KIf4yaL8ZfiP%2B0B478azeF7u8u/CeheIRpMNho91c28lrJcRLYafbSyv9nmnhXz5JVRZ32gEgj1qgAooooA8P8A27vi58eP2fvg1q/x1%2BFHjHwLY6f4W0W5vL3RfFnhm9v7nxDe5RbPTLOS2vYPs01xKRbo3lXTNLPEFhY/K3n/AMEf2vvjPrnxL8F/2t4M8JaR8NPG/wAT/FHw28K%2BGtO0uaPV9Ev9Ah1bfPPci4a3mgkbw/qaLDHbxGNWtj5kmWA9P/aV/ZBg/aS8eeCPiBN%2B0D478IXPgG7ub3RbHwxFo09nJeyoI1vJoNT068R54Y/MWGQBTGJ5SPmbIq%2BA/wBhn4e%2BA/jLb/F2H4i%2BLtSg07XNT17RPCGpXNl/ZOla3qUbx6hqkCRWqT%2BfOJ7ssrzPCjX1yY4o/M4APa6KKKACvl/9rn48ftMfBb4iaf4V0qHwB410fxzDrVtovw5i8H30msJa2mh3V3Jf3FwL54rq2F1Fb20kItYgft8KCYyMiSfUFeHTfsTXEf7R/iv9prRP2q/iXp2r%2BLdNh0650uGDw/PaafZwwNHDbWbXOky3NvEsrvdbFm2vO5dw4O2gBn7CH7Qfjf49/D28uviv4%2B0a%2B8XacLNtf8N2Xwu1fwjeaA89ssogubLV7qe4cFt/l3ACRyKh2htpNe6V5v8AA79m7Tvgz4n8SfEPWPil4p8ceKvFcVjb6x4n8XNYLcvaWYm%2By2qRafa2ttHFG1zcuNsIZmuJCzNkY9IoAKKKKAPjn/goJ%2B3H8VP2L/HP9p67ougeMfCL6NqOt2/hWX4c6nZS26abo19qSSf8JFNdPpk939r00bLFYEuhHMsoG2FpG9e/Zo%2BLvxz1b4qeN/2ev2jrnwpf%2BJ/COk6HrUeteCtIubCxubHUxeRpEYLm5uXWWK4067Uv5uJEMTbIySorfHb9hLwR%2B07rV1a/H/4t%2BNfFHgu5kuJF%2BGV5JpsOjRSTWM1kzB7eyjvpAI7iZgkt06B33bfkQL0/7Pn7M2kfAO817xFd/FDxZ448R%2BJDZx6t4q8a3Fm99LbWkRitbUfY7a3hWKIPKwxHvZ55XdnZyaAPSqKKKACviP8Aan/bK/az%2BDfxq8QfCjwd4b8OeNdTsNFuNd8MBPgf4gjk0UDUdMtUMLfbnHiaQWOqXHnf2X5TwtCVlEYmEdfbleH69%2BxZqfibx8fidrX7XPxRm1vT4LyHwbeFNAA8KrdTQyT/AGSMaTsnZo4Ft916t0yxM4Uq7s5AOq/ZY%2BLD/GT4RweLL34maN4qv4dRurLVL7RvBl94dFtcRSsrWs2m6hcT3VnPGMK8czh8/NtUMBXo1cN8A/gL4e%2BAHhnU9G0rxTrfiDUdf1641vxJ4k8RzQNe6rfzBEaeUW8UMCYjihiVIYo41SJAFGCT3NABRRRQAUUUUAFFFFABRRRQBR8UeIbDwj4a1HxXqof7LpljNd3PlLlvLjQu2B3OFNfOf7E37Sfxr8f%2BKdH8GfGzw94Ms18dfC2y%2BI3hmHwZpVxaDTI7y4Ju9PuzNcSi7mje5tn%2B2IIBO0sxMEe0F/pa7tLW/tZbG9t0mhmjaOaKVQyupGCpB4II4xXkP7M37FfgL9mDVX1fQPiD4t8Sy23hix8M%2BHR4svbWYaBoVm8j2%2Bm2pt7eEtGpk%2BaWczXEgji8yZ/LXAB7FRRRQAVwv7UHjv4i/C39mn4ifE74P%2BFF17xb4c8C6vqnhbQ2sZroajqNvZyy21sYYGWWbzJURPLjYO27CkEg13VZ3i3RL/xL4Y1Dw/pfivUdCub20kht9a0hYGurF2UgTRC4iliLqeQJI3TI%2BZWGQQDy79in4tT/ABQ%2BGd9Zat8QvD%2Bs6n4d1VdOvNM0T4Yan4OfQ0FtBJFZ3Glapcz3MLhHEiu3lo8UsWxMDe/sVeefAf8AZ20n4HXniXxHc/ETxJ4x8SeL9RhvPEXinxW9mLu6MNulvBEI7G2traKKONAFWOFMlnZizMzH0OgAooooA%2BXP2qP2sfih%2Bzh8XvHFl8StG8JeIvhfYfs7%2BL/HttoVvolwmqu2iDS1ntri5kuXt5op1vpwEFshUImXfLCu3/Zn%2BL/x81T4ueMv2dv2lpPCV54o8MeGPD3iWPVfBWk3NjZSWWrPqVutsYbm5uXMsNxpF2DKJAsiPE3lxnctQfGP9hXw78dPjq3xl8efHbxzLps3grU/CN98PYYNF/sS70bUltvt9pIX01r0idrSB2cXQdShCMiMyHpP2d/2XdD/AGfb7W/Ec/xQ8W%2BN/EOv2thZX/ifxtc2kl79gsUkWzs1%2ByW1vH5URnuHBKGR3uZXd3Zs0Aen0UUUAFfInxr/AGl/2tvBmu/tAeBLfwr4M8WXvgLw/wCFPEnw2sdJ%2BH%2Bp386x6jqupQhLy1ivHl1GeBdNjnU2wtyXJCr8qtX13Xhcv7FHiGL46eNvj/oX7aHxW0rVvG%2BkWOmXNjZWfhhrTTbayuLmezS2EuivJ%2B6N5dKDM8pdZyJPMKoVAOr/AGVPi3N8ZfhSPE2o/E7RvFOo2uq3Njq11o/gi/8ADZs7iJvmtZ9M1G4nurSdFK7kmYMQyttVWFek1wnwD%2BAegfAHQtZsdP8AFuueI9V8TeIJdc8T%2BJvEktu17qt/JDDB5sgtoYYIwsFvbwqkUUaKkKALnJPd0AFFFFAHxt%2B0t%2B13%2B0t%2Bzx8ZoPhtrSfDPxrfa3BBN4Rh07wte2kvgu81LxDpnh7SJtTle%2BnF1FO2rzgtEtnI4sbpYwy%2BYYvcv2Vfi/8AEj4jDx/8PvjGdEn8VfDTx43hrWdV8NadNZ2Gp%2BZpenatb3ENvNPPJb5tdUt0eNppcSRyYYgjHCW3/BNXwk118Q38Q/tL/E7Wbf4k68dc1i31I6F5lnqUVxDPp9zbXUWlpdKbB7e3FpG80kUSwoGR%2Bc%2BsfAP4C6H8A/D2rabZeL9c8Sat4i1%2BbWvE/ijxK9sb/V76SOKHzphawQQLsggt4ESKKNFjgjULwSQDuqKKKAGXP2n7NJ9j2edsPlebnbuxxnHOM18QfFb9rn9tP4afETXPhtb23gPxnr3hi98NW%2BreOvBHwV1/Vo/DlvqzXj3thLpVnqU93czRQ2VjdExTp%2B7uoWlgQGJpPt67hkuLWW3hupIHkjZVniCl4yRgMu4FcjqMgj1Br57%2BDH7AXiD4CfDa4%2BGnw7/bq%2BMUUd1qz6nNrN5ZeE59Qlu5XlkuZ5pn0I/aZJ3l3SSTiR8xpsKAYIB6z8BPiHZfFb4O%2BH/iFYfEDRvFSanp4kfX/D%2BkzWFpdyAlZClrPNNLbFXVkaGSR3jZWVjuUgdfXJfAv4L%2BEv2ffhfp3wp8FXN/cWVhLdXE19qtyJrq%2Bu7q5lurq6mcKoaWa4nmlfaqrukO1VXCjraACqPieHxJc%2BG9Qt/Bup2Nlq8llKul3mp2D3VtBcFCI5JYY5YmmjVsFkWSMsAQHUncL1ZvjHQb/wAUeFr/AMO6X4t1LQbm8tXig1rRxAbqxcjiaIXEUsRdTyBJG6HHzKwyKAPh74b/ALdv7Wvxg%2BKet/BL4W6b8Pk8Z6ba67fSeM/Ffwu1rQl1TTNItdFlSxl0S8vk1DT5Xu/EOxJp5nj8qGS4jhdZ0B%2BxvgF8WdN%2BPnwK8FfHXRtNlsrPxr4S03XrSznbc8EV5ax3CxsQBkqJACfUV4tq/wDwTI8D61rl98Rbv9pT4pp8QNWS8tdb%2BJNre6RDq1/pl1bWttNphRNNFnDbFLK0YeRbRTLJAsqyhyzH6D8F%2BD/DXw88HaT4A8GaTFp%2Bj6HpkGn6TYQ52W1tDGscUa55wqKqj6UAadFFFAHL/GnUfHGjfC3Wtb%2BHPiGx0vVrCzN1Dfah4PvfECJHGQ8oGnWM8FzeSNErqkUMgcuy4Vz8jfFvwl/4KI/H7xJ400PU/G9x4R8CeDNSnnXxB44vPgZ4imttYv4dfutIRLmVb6NPDM8lraWv7jVGklgeVY3zsCV9t/EzwZrvj3wlN4c8N/FLX/Bt5JLG8Wv%2BGYrF7uDawJVVv7a5gYMAVIeJuCcYOCPFbn/gnN4U1DwfcfDbVf2kPibd%2BGNc1Ca/8eeH5p9HEXjC7nvHuria%2BlXTRcReaWWJo7OW1iEMSRqijduAPomiiigAooooAKKKKACiiigAooooAKKKKACiiigAooooAKKKKACiiigAooooAKKKKACiiigAooooAKKKKACiiigAooooAKKKKACiiigAooooAKKKKACiiigAooooAKKKKACiiigAooooAKKKKACiiigAooooAKKKKACiiigAooooAKKKKACiiigAooooAKKKKACiiigAooooAKKKKACiiigAooooAKKKKACiiigAooooAKKKKACiiigAooooAKKKKACiiigAooooAKKKKACiiigAooooAKKKKACiiigAooooAKKKKACiiigAooooAKKKKACiiigD/9k%3D\">"
      ]
     },
     "metadata": {},
     "output_type": "display_data"
    }
   ],
   "source": [
    "s.run(tf.global_variables_initializer())\n",
    "\n",
    "BATCH_SIZE = 512\n",
    "EPOCHS = 40\n",
    "\n",
    "# for logging the progress right here in Jupyter (for those who don't have TensorBoard)\n",
    "simpleTrainingCurves = matplotlib_utils.SimpleTrainingCurves(\"cross-entropy\", \"accuracy\")\n",
    "\n",
    "for epoch in range(EPOCHS):  # we finish an epoch when we've looked at all training samples\n",
    "    \n",
    "    batch_losses = []\n",
    "    for batch_start in range(0, X_train_flat.shape[0], BATCH_SIZE):  # data is already shuffled\n",
    "        _, batch_loss = s.run([step, loss], {input_X: X_train_flat[batch_start:batch_start+BATCH_SIZE], \n",
    "                                             input_y: y_train_oh[batch_start:batch_start+BATCH_SIZE]})\n",
    "        # collect batch losses, this is almost free as we need a forward pass for backprop anyway\n",
    "        batch_losses.append(batch_loss)\n",
    "\n",
    "    train_loss = np.mean(batch_losses)\n",
    "    val_loss = s.run(loss, {input_X: X_val_flat, input_y: y_val_oh})  # this part is usually small\n",
    "    train_accuracy = accuracy_score(y_train, s.run(classes, {input_X: X_train_flat}))  # this is slow and usually skipped\n",
    "    valid_accuracy = accuracy_score(y_val, s.run(classes, {input_X: X_val_flat}))  \n",
    "    simpleTrainingCurves.add(train_loss, val_loss, train_accuracy, valid_accuracy)"
   ]
  },
  {
   "cell_type": "markdown",
   "metadata": {},
   "source": [
    "# Submit a linear model"
   ]
  },
  {
   "cell_type": "code",
   "execution_count": 13,
   "metadata": {},
   "outputs": [],
   "source": [
    "## GRADED PART, DO NOT CHANGE!\n",
    "# Testing shapes \n",
    "grader.set_answer(\"9XaAS\", grading_utils.get_tensors_shapes_string([W, b, input_X, input_y, logits, probas, classes]))\n",
    "# Validation loss\n",
    "grader.set_answer(\"vmogZ\", s.run(loss, {input_X: X_val_flat, input_y: y_val_oh}))\n",
    "# Validation accuracy\n",
    "grader.set_answer(\"RMv95\", accuracy_score(y_val, s.run(classes, {input_X: X_val_flat})))"
   ]
  },
  {
   "cell_type": "code",
   "execution_count": 14,
   "metadata": {},
   "outputs": [
    {
     "name": "stdout",
     "output_type": "stream",
     "text": [
      "Submitted to Coursera platform. See results on assignment page!\n"
     ]
    }
   ],
   "source": [
    "# you can make submission with answers so far to check yourself at this stage\n",
    "grader.submit(COURSERA_EMAIL, COURSERA_TOKEN)"
   ]
  },
  {
   "cell_type": "markdown",
   "metadata": {},
   "source": [
    "# MLP with hidden layers"
   ]
  },
  {
   "cell_type": "markdown",
   "metadata": {},
   "source": [
    "Previously we've coded a dense layer with matrix multiplication by hand. \n",
    "But this is not convenient, you have to create a lot of variables and your code becomes a mess. \n",
    "In TensorFlow there's an easier way to make a dense layer:\n",
    "```python\n",
    "hidden1 = tf.layers.dense(inputs, 256, activation=tf.nn.sigmoid)\n",
    "```\n",
    "\n",
    "That will create all the necessary variables automatically.\n",
    "Here you can also choose an activation function (remember that we need it for a hidden layer!).\n",
    "\n",
    "Now define the MLP with 2 hidden layers and restart training with the cell above.\n",
    "\n",
    "You're aiming for ~0.97 validation accuracy here."
   ]
  },
  {
   "cell_type": "code",
   "execution_count": 15,
   "metadata": {},
   "outputs": [
    {
     "name": "stderr",
     "output_type": "stream",
     "text": [
      "W0826 00:57:19.231590 140278096107328 deprecation.py:323] From <ipython-input-15-cde9c4e22e1d>:4: dense (from tensorflow.python.layers.core) is deprecated and will be removed in a future version.\n",
      "Instructions for updating:\n",
      "Use keras.layers.dense instead.\n",
      "W0826 00:57:19.233245 140278096107328 deprecation.py:506] From /home/harshit/miniconda3/envs/gpu-tf/lib/python3.7/site-packages/tensorflow/python/ops/init_ops.py:1251: calling VarianceScaling.__init__ (from tensorflow.python.ops.init_ops) with dtype is deprecated and will be removed in a future version.\n",
      "Instructions for updating:\n",
      "Call initializer instance with the dtype argument instead of passing it to the constructor\n"
     ]
    }
   ],
   "source": [
    "s = reset_tf_session()\n",
    "input_X = tf.placeholder(tf.float32, shape=(None,784))\n",
    "input_y = tf.placeholder(tf.float32, shape=(None,10))\n",
    "hidden1 = tf.layers.dense(input_X, 256,activation=tf.nn.sigmoid)\n",
    "hidden2 = tf.layers.dense(hidden1, 256,activation=tf.nn.sigmoid)\n",
    "logits = tf.layers.dense(hidden2, 10)\n",
    "probas = tf.nn.softmax(logits)\n",
    "classes = tf.argmax(probas,1)\n",
    "#print(hidden1.shape,logits.shape, probas.shape, classes.shape)\n",
    "\n",
    "loss = tf.reduce_mean(tf.nn.softmax_cross_entropy_with_logits(labels=input_y, logits=logits))\n",
    "\n",
    "step = tf.train.AdamOptimizer().minimize(loss)\n",
    "\n",
    "s.run(tf.global_variables_initializer())\n",
    "\n",
    "BATCH_SIZE = 512\n",
    "EPOCHS = 40\n",
    "\n",
    "# for logging the progress right here in Jupyter (for those who don't have TensorBoard)\n",
    "simpleTrainingCurves = matplotlib_utils.SimpleTrainingCurves(\"cross-entropy\", \"accuracy\")\n",
    "\n",
    "for epoch in range(EPOCHS):  # we finish an epoch when we've looked at all training samples\n",
    "    \n",
    "    batch_losses = []\n",
    "    for batch_start in range(0, X_train_flat.shape[0], BATCH_SIZE):  # data is already shuffled\n",
    "        _, batch_loss = s.run([step, loss], {input_X: X_train_flat[batch_start:batch_start+BATCH_SIZE], \n",
    "                                             input_y: y_train_oh[batch_start:batch_start+BATCH_SIZE]})\n",
    "        # collect batch losses, this is almost free as we need a forward pass for backprop anyway\n",
    "        batch_losses.append(batch_loss)\n",
    "\n",
    "    train_loss = np.mean(batch_losses)\n",
    "    val_loss = s.run(loss, {input_X: X_val_flat, input_y: y_val_oh})  # this part is usually small\n",
    "    train_accuracy = accuracy_score(y_train, s.run(classes, {input_X: X_train_flat}))  # this is slow and usually skipped\n",
    "    valid_accuracy = accuracy_score(y_val, s.run(classes, {input_X: X_val_flat}))\n",
    "\n"
   ]
  },
  {
   "cell_type": "markdown",
   "metadata": {},
   "source": [
    "# Submit the MLP with 2 hidden layers\n",
    "Run these cells after training the MLP with 2 hidden layers"
   ]
  },
  {
   "cell_type": "code",
   "execution_count": 16,
   "metadata": {},
   "outputs": [],
   "source": [
    "## GRADED PART, DO NOT CHANGE!\n",
    "# Validation loss for MLP\n",
    "grader.set_answer(\"i8bgs\", s.run(loss, {input_X: X_val_flat, input_y: y_val_oh}))\n",
    "# Validation accuracy for MLP\n",
    "grader.set_answer(\"rE763\", accuracy_score(y_val, s.run(classes, {input_X: X_val_flat})))"
   ]
  },
  {
   "cell_type": "code",
   "execution_count": 17,
   "metadata": {},
   "outputs": [
    {
     "name": "stdout",
     "output_type": "stream",
     "text": [
      "Submitted to Coursera platform. See results on assignment page!\n"
     ]
    }
   ],
   "source": [
    "# you can make submission with answers so far to check yourself at this stage\n",
    "grader.submit(COURSERA_EMAIL, COURSERA_TOKEN)"
   ]
  },
  {
   "cell_type": "code",
   "execution_count": null,
   "metadata": {},
   "outputs": [],
   "source": []
  }
 ],
 "metadata": {
  "kernelspec": {
   "display_name": "Python 3",
   "language": "python",
   "name": "python3"
  },
  "language_info": {
   "codemirror_mode": {
    "name": "ipython",
    "version": 3
   },
   "file_extension": ".py",
   "mimetype": "text/x-python",
   "name": "python",
   "nbconvert_exporter": "python",
   "pygments_lexer": "ipython3",
   "version": "3.7.3"
  }
 },
 "nbformat": 4,
 "nbformat_minor": 1
}
